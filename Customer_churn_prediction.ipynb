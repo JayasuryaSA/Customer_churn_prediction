{
  "nbformat": 4,
  "nbformat_minor": 0,
  "metadata": {
    "kernelspec": {
      "display_name": "Python 3",
      "language": "python",
      "name": "python3"
    },
    "language_info": {
      "codemirror_mode": {
        "name": "ipython",
        "version": 3
      },
      "file_extension": ".py",
      "mimetype": "text/x-python",
      "name": "python",
      "nbconvert_exporter": "python",
      "pygments_lexer": "ipython3",
      "version": "3.8.5"
    },
    "colab": {
      "name": "Customer_churn_prediction.ipynb",
      "provenance": [],
      "collapsed_sections": [
        "dAruY__HAttn",
        "jMSv4kYnAttp",
        "rAaYz9nvAttp",
        "QydOG08zAttq"
      ]
    }
  },
  "cells": [
    {
      "cell_type": "code",
      "metadata": {
        "colab": {
          "base_uri": "https://localhost:8080/"
        },
        "id": "oM_sos-wBjYm",
        "outputId": "1f0fd423-5e23-413a-a67e-52ca05dda277"
      },
      "source": [
        "!pip install tensorflow_addons"
      ],
      "execution_count": null,
      "outputs": [
        {
          "output_type": "stream",
          "name": "stdout",
          "text": [
            "Collecting tensorflow_addons\n",
            "  Downloading tensorflow_addons-0.14.0-cp37-cp37m-manylinux_2_12_x86_64.manylinux2010_x86_64.whl (1.1 MB)\n",
            "\u001b[?25l\r\u001b[K     |▎                               | 10 kB 25.5 MB/s eta 0:00:01\r\u001b[K     |▋                               | 20 kB 29.0 MB/s eta 0:00:01\r\u001b[K     |▉                               | 30 kB 18.3 MB/s eta 0:00:01\r\u001b[K     |█▏                              | 40 kB 16.2 MB/s eta 0:00:01\r\u001b[K     |█▌                              | 51 kB 7.4 MB/s eta 0:00:01\r\u001b[K     |█▊                              | 61 kB 8.7 MB/s eta 0:00:01\r\u001b[K     |██                              | 71 kB 8.2 MB/s eta 0:00:01\r\u001b[K     |██▍                             | 81 kB 9.1 MB/s eta 0:00:01\r\u001b[K     |██▋                             | 92 kB 9.5 MB/s eta 0:00:01\r\u001b[K     |███                             | 102 kB 7.2 MB/s eta 0:00:01\r\u001b[K     |███▎                            | 112 kB 7.2 MB/s eta 0:00:01\r\u001b[K     |███▌                            | 122 kB 7.2 MB/s eta 0:00:01\r\u001b[K     |███▉                            | 133 kB 7.2 MB/s eta 0:00:01\r\u001b[K     |████▏                           | 143 kB 7.2 MB/s eta 0:00:01\r\u001b[K     |████▍                           | 153 kB 7.2 MB/s eta 0:00:01\r\u001b[K     |████▊                           | 163 kB 7.2 MB/s eta 0:00:01\r\u001b[K     |█████                           | 174 kB 7.2 MB/s eta 0:00:01\r\u001b[K     |█████▎                          | 184 kB 7.2 MB/s eta 0:00:01\r\u001b[K     |█████▋                          | 194 kB 7.2 MB/s eta 0:00:01\r\u001b[K     |██████                          | 204 kB 7.2 MB/s eta 0:00:01\r\u001b[K     |██████▏                         | 215 kB 7.2 MB/s eta 0:00:01\r\u001b[K     |██████▌                         | 225 kB 7.2 MB/s eta 0:00:01\r\u001b[K     |██████▉                         | 235 kB 7.2 MB/s eta 0:00:01\r\u001b[K     |███████                         | 245 kB 7.2 MB/s eta 0:00:01\r\u001b[K     |███████▍                        | 256 kB 7.2 MB/s eta 0:00:01\r\u001b[K     |███████▊                        | 266 kB 7.2 MB/s eta 0:00:01\r\u001b[K     |████████                        | 276 kB 7.2 MB/s eta 0:00:01\r\u001b[K     |████████▎                       | 286 kB 7.2 MB/s eta 0:00:01\r\u001b[K     |████████▋                       | 296 kB 7.2 MB/s eta 0:00:01\r\u001b[K     |████████▉                       | 307 kB 7.2 MB/s eta 0:00:01\r\u001b[K     |█████████▏                      | 317 kB 7.2 MB/s eta 0:00:01\r\u001b[K     |█████████▌                      | 327 kB 7.2 MB/s eta 0:00:01\r\u001b[K     |█████████▊                      | 337 kB 7.2 MB/s eta 0:00:01\r\u001b[K     |██████████                      | 348 kB 7.2 MB/s eta 0:00:01\r\u001b[K     |██████████▍                     | 358 kB 7.2 MB/s eta 0:00:01\r\u001b[K     |██████████▋                     | 368 kB 7.2 MB/s eta 0:00:01\r\u001b[K     |███████████                     | 378 kB 7.2 MB/s eta 0:00:01\r\u001b[K     |███████████▎                    | 389 kB 7.2 MB/s eta 0:00:01\r\u001b[K     |███████████▌                    | 399 kB 7.2 MB/s eta 0:00:01\r\u001b[K     |███████████▉                    | 409 kB 7.2 MB/s eta 0:00:01\r\u001b[K     |████████████▏                   | 419 kB 7.2 MB/s eta 0:00:01\r\u001b[K     |████████████▍                   | 430 kB 7.2 MB/s eta 0:00:01\r\u001b[K     |████████████▊                   | 440 kB 7.2 MB/s eta 0:00:01\r\u001b[K     |█████████████                   | 450 kB 7.2 MB/s eta 0:00:01\r\u001b[K     |█████████████▎                  | 460 kB 7.2 MB/s eta 0:00:01\r\u001b[K     |█████████████▋                  | 471 kB 7.2 MB/s eta 0:00:01\r\u001b[K     |██████████████                  | 481 kB 7.2 MB/s eta 0:00:01\r\u001b[K     |██████████████▏                 | 491 kB 7.2 MB/s eta 0:00:01\r\u001b[K     |██████████████▌                 | 501 kB 7.2 MB/s eta 0:00:01\r\u001b[K     |██████████████▉                 | 512 kB 7.2 MB/s eta 0:00:01\r\u001b[K     |███████████████                 | 522 kB 7.2 MB/s eta 0:00:01\r\u001b[K     |███████████████▍                | 532 kB 7.2 MB/s eta 0:00:01\r\u001b[K     |███████████████▊                | 542 kB 7.2 MB/s eta 0:00:01\r\u001b[K     |████████████████                | 552 kB 7.2 MB/s eta 0:00:01\r\u001b[K     |████████████████▎               | 563 kB 7.2 MB/s eta 0:00:01\r\u001b[K     |████████████████▋               | 573 kB 7.2 MB/s eta 0:00:01\r\u001b[K     |████████████████▉               | 583 kB 7.2 MB/s eta 0:00:01\r\u001b[K     |█████████████████▏              | 593 kB 7.2 MB/s eta 0:00:01\r\u001b[K     |█████████████████▌              | 604 kB 7.2 MB/s eta 0:00:01\r\u001b[K     |█████████████████▊              | 614 kB 7.2 MB/s eta 0:00:01\r\u001b[K     |██████████████████              | 624 kB 7.2 MB/s eta 0:00:01\r\u001b[K     |██████████████████▍             | 634 kB 7.2 MB/s eta 0:00:01\r\u001b[K     |██████████████████▋             | 645 kB 7.2 MB/s eta 0:00:01\r\u001b[K     |███████████████████             | 655 kB 7.2 MB/s eta 0:00:01\r\u001b[K     |███████████████████▎            | 665 kB 7.2 MB/s eta 0:00:01\r\u001b[K     |███████████████████▌            | 675 kB 7.2 MB/s eta 0:00:01\r\u001b[K     |███████████████████▉            | 686 kB 7.2 MB/s eta 0:00:01\r\u001b[K     |████████████████████▏           | 696 kB 7.2 MB/s eta 0:00:01\r\u001b[K     |████████████████████▍           | 706 kB 7.2 MB/s eta 0:00:01\r\u001b[K     |████████████████████▊           | 716 kB 7.2 MB/s eta 0:00:01\r\u001b[K     |█████████████████████           | 727 kB 7.2 MB/s eta 0:00:01\r\u001b[K     |█████████████████████▎          | 737 kB 7.2 MB/s eta 0:00:01\r\u001b[K     |█████████████████████▋          | 747 kB 7.2 MB/s eta 0:00:01\r\u001b[K     |██████████████████████          | 757 kB 7.2 MB/s eta 0:00:01\r\u001b[K     |██████████████████████▏         | 768 kB 7.2 MB/s eta 0:00:01\r\u001b[K     |██████████████████████▌         | 778 kB 7.2 MB/s eta 0:00:01\r\u001b[K     |██████████████████████▉         | 788 kB 7.2 MB/s eta 0:00:01\r\u001b[K     |███████████████████████         | 798 kB 7.2 MB/s eta 0:00:01\r\u001b[K     |███████████████████████▍        | 808 kB 7.2 MB/s eta 0:00:01\r\u001b[K     |███████████████████████▊        | 819 kB 7.2 MB/s eta 0:00:01\r\u001b[K     |████████████████████████        | 829 kB 7.2 MB/s eta 0:00:01\r\u001b[K     |████████████████████████▎       | 839 kB 7.2 MB/s eta 0:00:01\r\u001b[K     |████████████████████████▋       | 849 kB 7.2 MB/s eta 0:00:01\r\u001b[K     |████████████████████████▉       | 860 kB 7.2 MB/s eta 0:00:01\r\u001b[K     |█████████████████████████▏      | 870 kB 7.2 MB/s eta 0:00:01\r\u001b[K     |█████████████████████████▍      | 880 kB 7.2 MB/s eta 0:00:01\r\u001b[K     |█████████████████████████▊      | 890 kB 7.2 MB/s eta 0:00:01\r\u001b[K     |██████████████████████████      | 901 kB 7.2 MB/s eta 0:00:01\r\u001b[K     |██████████████████████████▎     | 911 kB 7.2 MB/s eta 0:00:01\r\u001b[K     |██████████████████████████▋     | 921 kB 7.2 MB/s eta 0:00:01\r\u001b[K     |███████████████████████████     | 931 kB 7.2 MB/s eta 0:00:01\r\u001b[K     |███████████████████████████▏    | 942 kB 7.2 MB/s eta 0:00:01\r\u001b[K     |███████████████████████████▌    | 952 kB 7.2 MB/s eta 0:00:01\r\u001b[K     |███████████████████████████▉    | 962 kB 7.2 MB/s eta 0:00:01\r\u001b[K     |████████████████████████████    | 972 kB 7.2 MB/s eta 0:00:01\r\u001b[K     |████████████████████████████▍   | 983 kB 7.2 MB/s eta 0:00:01\r\u001b[K     |████████████████████████████▊   | 993 kB 7.2 MB/s eta 0:00:01\r\u001b[K     |█████████████████████████████   | 1.0 MB 7.2 MB/s eta 0:00:01\r\u001b[K     |█████████████████████████████▎  | 1.0 MB 7.2 MB/s eta 0:00:01\r\u001b[K     |█████████████████████████████▋  | 1.0 MB 7.2 MB/s eta 0:00:01\r\u001b[K     |█████████████████████████████▉  | 1.0 MB 7.2 MB/s eta 0:00:01\r\u001b[K     |██████████████████████████████▏ | 1.0 MB 7.2 MB/s eta 0:00:01\r\u001b[K     |██████████████████████████████▌ | 1.1 MB 7.2 MB/s eta 0:00:01\r\u001b[K     |██████████████████████████████▊ | 1.1 MB 7.2 MB/s eta 0:00:01\r\u001b[K     |███████████████████████████████ | 1.1 MB 7.2 MB/s eta 0:00:01\r\u001b[K     |███████████████████████████████▍| 1.1 MB 7.2 MB/s eta 0:00:01\r\u001b[K     |███████████████████████████████▋| 1.1 MB 7.2 MB/s eta 0:00:01\r\u001b[K     |████████████████████████████████| 1.1 MB 7.2 MB/s eta 0:00:01\r\u001b[K     |████████████████████████████████| 1.1 MB 7.2 MB/s \n",
            "\u001b[?25hRequirement already satisfied: typeguard>=2.7 in /usr/local/lib/python3.7/dist-packages (from tensorflow_addons) (2.7.1)\n",
            "Installing collected packages: tensorflow-addons\n",
            "Successfully installed tensorflow-addons-0.14.0\n"
          ]
        }
      ]
    },
    {
      "cell_type": "code",
      "metadata": {
        "colab": {
          "base_uri": "https://localhost:8080/"
        },
        "id": "Ab9sw_L8BmuX",
        "outputId": "a60d4d09-c324-41dc-b952-4b878c765780"
      },
      "source": [
        "!pip install imblearn"
      ],
      "execution_count": null,
      "outputs": [
        {
          "output_type": "stream",
          "name": "stdout",
          "text": [
            "Requirement already satisfied: imblearn in /usr/local/lib/python3.7/dist-packages (0.0)\n",
            "Requirement already satisfied: imbalanced-learn in /usr/local/lib/python3.7/dist-packages (from imblearn) (0.4.3)\n",
            "Requirement already satisfied: scipy>=0.13.3 in /usr/local/lib/python3.7/dist-packages (from imbalanced-learn->imblearn) (1.4.1)\n",
            "Requirement already satisfied: scikit-learn>=0.20 in /usr/local/lib/python3.7/dist-packages (from imbalanced-learn->imblearn) (0.22.2.post1)\n",
            "Requirement already satisfied: numpy>=1.8.2 in /usr/local/lib/python3.7/dist-packages (from imbalanced-learn->imblearn) (1.19.5)\n",
            "Requirement already satisfied: joblib>=0.11 in /usr/local/lib/python3.7/dist-packages (from scikit-learn>=0.20->imbalanced-learn->imblearn) (1.0.1)\n"
          ]
        }
      ]
    },
    {
      "cell_type": "code",
      "metadata": {
        "id": "tESHc6lsAttW"
      },
      "source": [
        "import pandas as pd\n",
        "from matplotlib import pyplot as plt\n",
        "import numpy as np\n",
        "import sklearn\n",
        "import tensorflow as tf\n",
        "from tensorflow import keras\n",
        "from sklearn.metrics import confusion_matrix , classification_report\n",
        "from tensorflow_addons import losses\n",
        "%matplotlib inline"
      ],
      "execution_count": null,
      "outputs": []
    },
    {
      "cell_type": "code",
      "metadata": {
        "id": "IdiQG9s0AttX"
      },
      "source": [
        "import warnings\n",
        "warnings.filterwarnings('ignore')"
      ],
      "execution_count": null,
      "outputs": []
    },
    {
      "cell_type": "markdown",
      "metadata": {
        "id": "gFx955PEAttY"
      },
      "source": [
        "**Load the data**"
      ]
    },
    {
      "cell_type": "code",
      "metadata": {
        "colab": {
          "base_uri": "https://localhost:8080/"
        },
        "id": "NYtMPQwzBxYV",
        "outputId": "57529a96-5dbb-4a65-b7cb-7fb3805d119f"
      },
      "source": [
        "from google.colab import drive\n",
        "drive.mount('/content/drive/')"
      ],
      "execution_count": null,
      "outputs": [
        {
          "output_type": "stream",
          "name": "stdout",
          "text": [
            "Mounted at /content/drive/\n"
          ]
        }
      ]
    },
    {
      "cell_type": "code",
      "metadata": {
        "colab": {
          "base_uri": "https://localhost:8080/",
          "height": 307
        },
        "id": "AjNjiY3HB1ke",
        "outputId": "64901161-a274-49e4-e9a4-3f1faf490ff0"
      },
      "source": [
        "df = pd.read_csv('/content/drive/My Drive/project/Unbalanced dataset analysis/customer_churn.csv', encoding='latin-1')\n",
        "df.head(5)"
      ],
      "execution_count": null,
      "outputs": [
        {
          "output_type": "execute_result",
          "data": {
            "text/html": [
              "<div>\n",
              "<style scoped>\n",
              "    .dataframe tbody tr th:only-of-type {\n",
              "        vertical-align: middle;\n",
              "    }\n",
              "\n",
              "    .dataframe tbody tr th {\n",
              "        vertical-align: top;\n",
              "    }\n",
              "\n",
              "    .dataframe thead th {\n",
              "        text-align: right;\n",
              "    }\n",
              "</style>\n",
              "<table border=\"1\" class=\"dataframe\">\n",
              "  <thead>\n",
              "    <tr style=\"text-align: right;\">\n",
              "      <th></th>\n",
              "      <th>customerID</th>\n",
              "      <th>gender</th>\n",
              "      <th>SeniorCitizen</th>\n",
              "      <th>Partner</th>\n",
              "      <th>Dependents</th>\n",
              "      <th>tenure</th>\n",
              "      <th>PhoneService</th>\n",
              "      <th>MultipleLines</th>\n",
              "      <th>InternetService</th>\n",
              "      <th>OnlineSecurity</th>\n",
              "      <th>OnlineBackup</th>\n",
              "      <th>DeviceProtection</th>\n",
              "      <th>TechSupport</th>\n",
              "      <th>StreamingTV</th>\n",
              "      <th>StreamingMovies</th>\n",
              "      <th>Contract</th>\n",
              "      <th>PaperlessBilling</th>\n",
              "      <th>PaymentMethod</th>\n",
              "      <th>MonthlyCharges</th>\n",
              "      <th>TotalCharges</th>\n",
              "      <th>Churn</th>\n",
              "    </tr>\n",
              "  </thead>\n",
              "  <tbody>\n",
              "    <tr>\n",
              "      <th>0</th>\n",
              "      <td>7590-VHVEG</td>\n",
              "      <td>Female</td>\n",
              "      <td>0</td>\n",
              "      <td>Yes</td>\n",
              "      <td>No</td>\n",
              "      <td>1</td>\n",
              "      <td>No</td>\n",
              "      <td>No phone service</td>\n",
              "      <td>DSL</td>\n",
              "      <td>No</td>\n",
              "      <td>Yes</td>\n",
              "      <td>No</td>\n",
              "      <td>No</td>\n",
              "      <td>No</td>\n",
              "      <td>No</td>\n",
              "      <td>Month-to-month</td>\n",
              "      <td>Yes</td>\n",
              "      <td>Electronic check</td>\n",
              "      <td>29.85</td>\n",
              "      <td>29.85</td>\n",
              "      <td>No</td>\n",
              "    </tr>\n",
              "    <tr>\n",
              "      <th>1</th>\n",
              "      <td>5575-GNVDE</td>\n",
              "      <td>Male</td>\n",
              "      <td>0</td>\n",
              "      <td>No</td>\n",
              "      <td>No</td>\n",
              "      <td>34</td>\n",
              "      <td>Yes</td>\n",
              "      <td>No</td>\n",
              "      <td>DSL</td>\n",
              "      <td>Yes</td>\n",
              "      <td>No</td>\n",
              "      <td>Yes</td>\n",
              "      <td>No</td>\n",
              "      <td>No</td>\n",
              "      <td>No</td>\n",
              "      <td>One year</td>\n",
              "      <td>No</td>\n",
              "      <td>Mailed check</td>\n",
              "      <td>56.95</td>\n",
              "      <td>1889.5</td>\n",
              "      <td>No</td>\n",
              "    </tr>\n",
              "    <tr>\n",
              "      <th>2</th>\n",
              "      <td>3668-QPYBK</td>\n",
              "      <td>Male</td>\n",
              "      <td>0</td>\n",
              "      <td>No</td>\n",
              "      <td>No</td>\n",
              "      <td>2</td>\n",
              "      <td>Yes</td>\n",
              "      <td>No</td>\n",
              "      <td>DSL</td>\n",
              "      <td>Yes</td>\n",
              "      <td>Yes</td>\n",
              "      <td>No</td>\n",
              "      <td>No</td>\n",
              "      <td>No</td>\n",
              "      <td>No</td>\n",
              "      <td>Month-to-month</td>\n",
              "      <td>Yes</td>\n",
              "      <td>Mailed check</td>\n",
              "      <td>53.85</td>\n",
              "      <td>108.15</td>\n",
              "      <td>Yes</td>\n",
              "    </tr>\n",
              "    <tr>\n",
              "      <th>3</th>\n",
              "      <td>7795-CFOCW</td>\n",
              "      <td>Male</td>\n",
              "      <td>0</td>\n",
              "      <td>No</td>\n",
              "      <td>No</td>\n",
              "      <td>45</td>\n",
              "      <td>No</td>\n",
              "      <td>No phone service</td>\n",
              "      <td>DSL</td>\n",
              "      <td>Yes</td>\n",
              "      <td>No</td>\n",
              "      <td>Yes</td>\n",
              "      <td>Yes</td>\n",
              "      <td>No</td>\n",
              "      <td>No</td>\n",
              "      <td>One year</td>\n",
              "      <td>No</td>\n",
              "      <td>Bank transfer (automatic)</td>\n",
              "      <td>42.30</td>\n",
              "      <td>1840.75</td>\n",
              "      <td>No</td>\n",
              "    </tr>\n",
              "    <tr>\n",
              "      <th>4</th>\n",
              "      <td>9237-HQITU</td>\n",
              "      <td>Female</td>\n",
              "      <td>0</td>\n",
              "      <td>No</td>\n",
              "      <td>No</td>\n",
              "      <td>2</td>\n",
              "      <td>Yes</td>\n",
              "      <td>No</td>\n",
              "      <td>Fiber optic</td>\n",
              "      <td>No</td>\n",
              "      <td>No</td>\n",
              "      <td>No</td>\n",
              "      <td>No</td>\n",
              "      <td>No</td>\n",
              "      <td>No</td>\n",
              "      <td>Month-to-month</td>\n",
              "      <td>Yes</td>\n",
              "      <td>Electronic check</td>\n",
              "      <td>70.70</td>\n",
              "      <td>151.65</td>\n",
              "      <td>Yes</td>\n",
              "    </tr>\n",
              "  </tbody>\n",
              "</table>\n",
              "</div>"
            ],
            "text/plain": [
              "   customerID  gender  SeniorCitizen  ... MonthlyCharges TotalCharges  Churn\n",
              "0  7590-VHVEG  Female              0  ...          29.85        29.85     No\n",
              "1  5575-GNVDE    Male              0  ...          56.95       1889.5     No\n",
              "2  3668-QPYBK    Male              0  ...          53.85       108.15    Yes\n",
              "3  7795-CFOCW    Male              0  ...          42.30      1840.75     No\n",
              "4  9237-HQITU  Female              0  ...          70.70       151.65    Yes\n",
              "\n",
              "[5 rows x 21 columns]"
            ]
          },
          "metadata": {},
          "execution_count": 6
        }
      ]
    },
    {
      "cell_type": "code",
      "metadata": {
        "id": "CnbwAjBfAttZ",
        "outputId": "c3f39ed6-f19a-4a02-ea44-596aa2276bbf"
      },
      "source": [
        "df.Churn.value_counts()"
      ],
      "execution_count": null,
      "outputs": [
        {
          "data": {
            "text/plain": [
              "No     5174\n",
              "Yes    1869\n",
              "Name: Churn, dtype: int64"
            ]
          },
          "execution_count": 8,
          "metadata": {},
          "output_type": "execute_result"
        }
      ]
    },
    {
      "cell_type": "markdown",
      "metadata": {
        "id": "B9JmPsg1Atta"
      },
      "source": [
        "**First of all, drop customerID column as it is of no use**"
      ]
    },
    {
      "cell_type": "code",
      "metadata": {
        "id": "VDa79eTOAttb"
      },
      "source": [
        "df.drop('customerID',axis='columns',inplace=True)"
      ],
      "execution_count": null,
      "outputs": []
    },
    {
      "cell_type": "code",
      "metadata": {
        "scrolled": false,
        "id": "8bAE7oDwAttc",
        "outputId": "0ac8385c-8dad-45db-87fe-bedc2ae37320"
      },
      "source": [
        "df.dtypes"
      ],
      "execution_count": null,
      "outputs": [
        {
          "data": {
            "text/plain": [
              "gender               object\n",
              "SeniorCitizen         int64\n",
              "Partner              object\n",
              "Dependents           object\n",
              "tenure                int64\n",
              "PhoneService         object\n",
              "MultipleLines        object\n",
              "InternetService      object\n",
              "OnlineSecurity       object\n",
              "OnlineBackup         object\n",
              "DeviceProtection     object\n",
              "TechSupport          object\n",
              "StreamingTV          object\n",
              "StreamingMovies      object\n",
              "Contract             object\n",
              "PaperlessBilling     object\n",
              "PaymentMethod        object\n",
              "MonthlyCharges      float64\n",
              "TotalCharges         object\n",
              "Churn                object\n",
              "dtype: object"
            ]
          },
          "execution_count": 11,
          "metadata": {},
          "output_type": "execute_result"
        }
      ]
    },
    {
      "cell_type": "markdown",
      "metadata": {
        "id": "crBjsrIoAttc"
      },
      "source": [
        "**Quick glance at above makes me realize that TotalCharges should be float but it is an object. Let's check what's going on with  this column**"
      ]
    },
    {
      "cell_type": "code",
      "metadata": {
        "id": "o_ic31gBAttd",
        "outputId": "2a117bd2-3df4-48e6-b295-40653481a7d0"
      },
      "source": [
        "df.TotalCharges.values"
      ],
      "execution_count": null,
      "outputs": [
        {
          "data": {
            "text/plain": [
              "array(['29.85', '1889.5', '108.15', ..., '346.45', '306.6', '6844.5'],\n",
              "      dtype=object)"
            ]
          },
          "execution_count": 12,
          "metadata": {},
          "output_type": "execute_result"
        }
      ]
    },
    {
      "cell_type": "markdown",
      "metadata": {
        "id": "eOb3YIDBAttd"
      },
      "source": [
        "**Ahh... it is string. Lets convert it to numbers**"
      ]
    },
    {
      "cell_type": "code",
      "metadata": {
        "id": "vaPDDB2fAttd",
        "outputId": "313700ef-4d7f-4a01-d093-1a7e765bcf17"
      },
      "source": [
        "pd.to_numeric(df.TotalCharges,errors='coerce').isnull()"
      ],
      "execution_count": null,
      "outputs": [
        {
          "data": {
            "text/plain": [
              "0       False\n",
              "1       False\n",
              "2       False\n",
              "3       False\n",
              "4       False\n",
              "        ...  \n",
              "7038    False\n",
              "7039    False\n",
              "7040    False\n",
              "7041    False\n",
              "7042    False\n",
              "Name: TotalCharges, Length: 7043, dtype: bool"
            ]
          },
          "execution_count": 13,
          "metadata": {},
          "output_type": "execute_result"
        }
      ]
    },
    {
      "cell_type": "code",
      "metadata": {
        "id": "Aq1Sg4XMAttd",
        "outputId": "53a0d5c1-ca4e-4824-a2e8-824360d31b66"
      },
      "source": [
        "df[pd.to_numeric(df.TotalCharges,errors='coerce').isnull()]"
      ],
      "execution_count": null,
      "outputs": [
        {
          "data": {
            "text/html": [
              "<div>\n",
              "<style scoped>\n",
              "    .dataframe tbody tr th:only-of-type {\n",
              "        vertical-align: middle;\n",
              "    }\n",
              "\n",
              "    .dataframe tbody tr th {\n",
              "        vertical-align: top;\n",
              "    }\n",
              "\n",
              "    .dataframe thead th {\n",
              "        text-align: right;\n",
              "    }\n",
              "</style>\n",
              "<table border=\"1\" class=\"dataframe\">\n",
              "  <thead>\n",
              "    <tr style=\"text-align: right;\">\n",
              "      <th></th>\n",
              "      <th>gender</th>\n",
              "      <th>SeniorCitizen</th>\n",
              "      <th>Partner</th>\n",
              "      <th>Dependents</th>\n",
              "      <th>tenure</th>\n",
              "      <th>PhoneService</th>\n",
              "      <th>MultipleLines</th>\n",
              "      <th>InternetService</th>\n",
              "      <th>OnlineSecurity</th>\n",
              "      <th>OnlineBackup</th>\n",
              "      <th>DeviceProtection</th>\n",
              "      <th>TechSupport</th>\n",
              "      <th>StreamingTV</th>\n",
              "      <th>StreamingMovies</th>\n",
              "      <th>Contract</th>\n",
              "      <th>PaperlessBilling</th>\n",
              "      <th>PaymentMethod</th>\n",
              "      <th>MonthlyCharges</th>\n",
              "      <th>TotalCharges</th>\n",
              "      <th>Churn</th>\n",
              "    </tr>\n",
              "  </thead>\n",
              "  <tbody>\n",
              "    <tr>\n",
              "      <th>488</th>\n",
              "      <td>Female</td>\n",
              "      <td>0</td>\n",
              "      <td>Yes</td>\n",
              "      <td>Yes</td>\n",
              "      <td>0</td>\n",
              "      <td>No</td>\n",
              "      <td>No phone service</td>\n",
              "      <td>DSL</td>\n",
              "      <td>Yes</td>\n",
              "      <td>No</td>\n",
              "      <td>Yes</td>\n",
              "      <td>Yes</td>\n",
              "      <td>Yes</td>\n",
              "      <td>No</td>\n",
              "      <td>Two year</td>\n",
              "      <td>Yes</td>\n",
              "      <td>Bank transfer (automatic)</td>\n",
              "      <td>52.55</td>\n",
              "      <td></td>\n",
              "      <td>No</td>\n",
              "    </tr>\n",
              "    <tr>\n",
              "      <th>753</th>\n",
              "      <td>Male</td>\n",
              "      <td>0</td>\n",
              "      <td>No</td>\n",
              "      <td>Yes</td>\n",
              "      <td>0</td>\n",
              "      <td>Yes</td>\n",
              "      <td>No</td>\n",
              "      <td>No</td>\n",
              "      <td>No internet service</td>\n",
              "      <td>No internet service</td>\n",
              "      <td>No internet service</td>\n",
              "      <td>No internet service</td>\n",
              "      <td>No internet service</td>\n",
              "      <td>No internet service</td>\n",
              "      <td>Two year</td>\n",
              "      <td>No</td>\n",
              "      <td>Mailed check</td>\n",
              "      <td>20.25</td>\n",
              "      <td></td>\n",
              "      <td>No</td>\n",
              "    </tr>\n",
              "    <tr>\n",
              "      <th>936</th>\n",
              "      <td>Female</td>\n",
              "      <td>0</td>\n",
              "      <td>Yes</td>\n",
              "      <td>Yes</td>\n",
              "      <td>0</td>\n",
              "      <td>Yes</td>\n",
              "      <td>No</td>\n",
              "      <td>DSL</td>\n",
              "      <td>Yes</td>\n",
              "      <td>Yes</td>\n",
              "      <td>Yes</td>\n",
              "      <td>No</td>\n",
              "      <td>Yes</td>\n",
              "      <td>Yes</td>\n",
              "      <td>Two year</td>\n",
              "      <td>No</td>\n",
              "      <td>Mailed check</td>\n",
              "      <td>80.85</td>\n",
              "      <td></td>\n",
              "      <td>No</td>\n",
              "    </tr>\n",
              "    <tr>\n",
              "      <th>1082</th>\n",
              "      <td>Male</td>\n",
              "      <td>0</td>\n",
              "      <td>Yes</td>\n",
              "      <td>Yes</td>\n",
              "      <td>0</td>\n",
              "      <td>Yes</td>\n",
              "      <td>Yes</td>\n",
              "      <td>No</td>\n",
              "      <td>No internet service</td>\n",
              "      <td>No internet service</td>\n",
              "      <td>No internet service</td>\n",
              "      <td>No internet service</td>\n",
              "      <td>No internet service</td>\n",
              "      <td>No internet service</td>\n",
              "      <td>Two year</td>\n",
              "      <td>No</td>\n",
              "      <td>Mailed check</td>\n",
              "      <td>25.75</td>\n",
              "      <td></td>\n",
              "      <td>No</td>\n",
              "    </tr>\n",
              "    <tr>\n",
              "      <th>1340</th>\n",
              "      <td>Female</td>\n",
              "      <td>0</td>\n",
              "      <td>Yes</td>\n",
              "      <td>Yes</td>\n",
              "      <td>0</td>\n",
              "      <td>No</td>\n",
              "      <td>No phone service</td>\n",
              "      <td>DSL</td>\n",
              "      <td>Yes</td>\n",
              "      <td>Yes</td>\n",
              "      <td>Yes</td>\n",
              "      <td>Yes</td>\n",
              "      <td>Yes</td>\n",
              "      <td>No</td>\n",
              "      <td>Two year</td>\n",
              "      <td>No</td>\n",
              "      <td>Credit card (automatic)</td>\n",
              "      <td>56.05</td>\n",
              "      <td></td>\n",
              "      <td>No</td>\n",
              "    </tr>\n",
              "    <tr>\n",
              "      <th>3331</th>\n",
              "      <td>Male</td>\n",
              "      <td>0</td>\n",
              "      <td>Yes</td>\n",
              "      <td>Yes</td>\n",
              "      <td>0</td>\n",
              "      <td>Yes</td>\n",
              "      <td>No</td>\n",
              "      <td>No</td>\n",
              "      <td>No internet service</td>\n",
              "      <td>No internet service</td>\n",
              "      <td>No internet service</td>\n",
              "      <td>No internet service</td>\n",
              "      <td>No internet service</td>\n",
              "      <td>No internet service</td>\n",
              "      <td>Two year</td>\n",
              "      <td>No</td>\n",
              "      <td>Mailed check</td>\n",
              "      <td>19.85</td>\n",
              "      <td></td>\n",
              "      <td>No</td>\n",
              "    </tr>\n",
              "    <tr>\n",
              "      <th>3826</th>\n",
              "      <td>Male</td>\n",
              "      <td>0</td>\n",
              "      <td>Yes</td>\n",
              "      <td>Yes</td>\n",
              "      <td>0</td>\n",
              "      <td>Yes</td>\n",
              "      <td>Yes</td>\n",
              "      <td>No</td>\n",
              "      <td>No internet service</td>\n",
              "      <td>No internet service</td>\n",
              "      <td>No internet service</td>\n",
              "      <td>No internet service</td>\n",
              "      <td>No internet service</td>\n",
              "      <td>No internet service</td>\n",
              "      <td>Two year</td>\n",
              "      <td>No</td>\n",
              "      <td>Mailed check</td>\n",
              "      <td>25.35</td>\n",
              "      <td></td>\n",
              "      <td>No</td>\n",
              "    </tr>\n",
              "    <tr>\n",
              "      <th>4380</th>\n",
              "      <td>Female</td>\n",
              "      <td>0</td>\n",
              "      <td>Yes</td>\n",
              "      <td>Yes</td>\n",
              "      <td>0</td>\n",
              "      <td>Yes</td>\n",
              "      <td>No</td>\n",
              "      <td>No</td>\n",
              "      <td>No internet service</td>\n",
              "      <td>No internet service</td>\n",
              "      <td>No internet service</td>\n",
              "      <td>No internet service</td>\n",
              "      <td>No internet service</td>\n",
              "      <td>No internet service</td>\n",
              "      <td>Two year</td>\n",
              "      <td>No</td>\n",
              "      <td>Mailed check</td>\n",
              "      <td>20.00</td>\n",
              "      <td></td>\n",
              "      <td>No</td>\n",
              "    </tr>\n",
              "    <tr>\n",
              "      <th>5218</th>\n",
              "      <td>Male</td>\n",
              "      <td>0</td>\n",
              "      <td>Yes</td>\n",
              "      <td>Yes</td>\n",
              "      <td>0</td>\n",
              "      <td>Yes</td>\n",
              "      <td>No</td>\n",
              "      <td>No</td>\n",
              "      <td>No internet service</td>\n",
              "      <td>No internet service</td>\n",
              "      <td>No internet service</td>\n",
              "      <td>No internet service</td>\n",
              "      <td>No internet service</td>\n",
              "      <td>No internet service</td>\n",
              "      <td>One year</td>\n",
              "      <td>Yes</td>\n",
              "      <td>Mailed check</td>\n",
              "      <td>19.70</td>\n",
              "      <td></td>\n",
              "      <td>No</td>\n",
              "    </tr>\n",
              "    <tr>\n",
              "      <th>6670</th>\n",
              "      <td>Female</td>\n",
              "      <td>0</td>\n",
              "      <td>Yes</td>\n",
              "      <td>Yes</td>\n",
              "      <td>0</td>\n",
              "      <td>Yes</td>\n",
              "      <td>Yes</td>\n",
              "      <td>DSL</td>\n",
              "      <td>No</td>\n",
              "      <td>Yes</td>\n",
              "      <td>Yes</td>\n",
              "      <td>Yes</td>\n",
              "      <td>Yes</td>\n",
              "      <td>No</td>\n",
              "      <td>Two year</td>\n",
              "      <td>No</td>\n",
              "      <td>Mailed check</td>\n",
              "      <td>73.35</td>\n",
              "      <td></td>\n",
              "      <td>No</td>\n",
              "    </tr>\n",
              "    <tr>\n",
              "      <th>6754</th>\n",
              "      <td>Male</td>\n",
              "      <td>0</td>\n",
              "      <td>No</td>\n",
              "      <td>Yes</td>\n",
              "      <td>0</td>\n",
              "      <td>Yes</td>\n",
              "      <td>Yes</td>\n",
              "      <td>DSL</td>\n",
              "      <td>Yes</td>\n",
              "      <td>Yes</td>\n",
              "      <td>No</td>\n",
              "      <td>Yes</td>\n",
              "      <td>No</td>\n",
              "      <td>No</td>\n",
              "      <td>Two year</td>\n",
              "      <td>Yes</td>\n",
              "      <td>Bank transfer (automatic)</td>\n",
              "      <td>61.90</td>\n",
              "      <td></td>\n",
              "      <td>No</td>\n",
              "    </tr>\n",
              "  </tbody>\n",
              "</table>\n",
              "</div>"
            ],
            "text/plain": [
              "      gender  SeniorCitizen Partner Dependents  tenure PhoneService  \\\n",
              "488   Female              0     Yes        Yes       0           No   \n",
              "753     Male              0      No        Yes       0          Yes   \n",
              "936   Female              0     Yes        Yes       0          Yes   \n",
              "1082    Male              0     Yes        Yes       0          Yes   \n",
              "1340  Female              0     Yes        Yes       0           No   \n",
              "3331    Male              0     Yes        Yes       0          Yes   \n",
              "3826    Male              0     Yes        Yes       0          Yes   \n",
              "4380  Female              0     Yes        Yes       0          Yes   \n",
              "5218    Male              0     Yes        Yes       0          Yes   \n",
              "6670  Female              0     Yes        Yes       0          Yes   \n",
              "6754    Male              0      No        Yes       0          Yes   \n",
              "\n",
              "         MultipleLines InternetService       OnlineSecurity  \\\n",
              "488   No phone service             DSL                  Yes   \n",
              "753                 No              No  No internet service   \n",
              "936                 No             DSL                  Yes   \n",
              "1082               Yes              No  No internet service   \n",
              "1340  No phone service             DSL                  Yes   \n",
              "3331                No              No  No internet service   \n",
              "3826               Yes              No  No internet service   \n",
              "4380                No              No  No internet service   \n",
              "5218                No              No  No internet service   \n",
              "6670               Yes             DSL                   No   \n",
              "6754               Yes             DSL                  Yes   \n",
              "\n",
              "             OnlineBackup     DeviceProtection          TechSupport  \\\n",
              "488                    No                  Yes                  Yes   \n",
              "753   No internet service  No internet service  No internet service   \n",
              "936                   Yes                  Yes                   No   \n",
              "1082  No internet service  No internet service  No internet service   \n",
              "1340                  Yes                  Yes                  Yes   \n",
              "3331  No internet service  No internet service  No internet service   \n",
              "3826  No internet service  No internet service  No internet service   \n",
              "4380  No internet service  No internet service  No internet service   \n",
              "5218  No internet service  No internet service  No internet service   \n",
              "6670                  Yes                  Yes                  Yes   \n",
              "6754                  Yes                   No                  Yes   \n",
              "\n",
              "              StreamingTV      StreamingMovies  Contract PaperlessBilling  \\\n",
              "488                   Yes                   No  Two year              Yes   \n",
              "753   No internet service  No internet service  Two year               No   \n",
              "936                   Yes                  Yes  Two year               No   \n",
              "1082  No internet service  No internet service  Two year               No   \n",
              "1340                  Yes                   No  Two year               No   \n",
              "3331  No internet service  No internet service  Two year               No   \n",
              "3826  No internet service  No internet service  Two year               No   \n",
              "4380  No internet service  No internet service  Two year               No   \n",
              "5218  No internet service  No internet service  One year              Yes   \n",
              "6670                  Yes                   No  Two year               No   \n",
              "6754                   No                   No  Two year              Yes   \n",
              "\n",
              "                  PaymentMethod  MonthlyCharges TotalCharges Churn  \n",
              "488   Bank transfer (automatic)           52.55                 No  \n",
              "753                Mailed check           20.25                 No  \n",
              "936                Mailed check           80.85                 No  \n",
              "1082               Mailed check           25.75                 No  \n",
              "1340    Credit card (automatic)           56.05                 No  \n",
              "3331               Mailed check           19.85                 No  \n",
              "3826               Mailed check           25.35                 No  \n",
              "4380               Mailed check           20.00                 No  \n",
              "5218               Mailed check           19.70                 No  \n",
              "6670               Mailed check           73.35                 No  \n",
              "6754  Bank transfer (automatic)           61.90                 No  "
            ]
          },
          "execution_count": 14,
          "metadata": {},
          "output_type": "execute_result"
        }
      ]
    },
    {
      "cell_type": "code",
      "metadata": {
        "id": "4McoNQ6XAtte",
        "outputId": "368ede8a-5f8b-49d3-9d87-40a29d974d82"
      },
      "source": [
        "df.shape"
      ],
      "execution_count": null,
      "outputs": [
        {
          "data": {
            "text/plain": [
              "(7043, 20)"
            ]
          },
          "execution_count": 15,
          "metadata": {},
          "output_type": "execute_result"
        }
      ]
    },
    {
      "cell_type": "markdown",
      "metadata": {
        "id": "zTG8rn5iAttf"
      },
      "source": [
        "**Remove rows with space in TotalCharges**"
      ]
    },
    {
      "cell_type": "code",
      "metadata": {
        "id": "qHHdTmKrAttf",
        "outputId": "436ba13f-bb0f-40b9-e79e-81db6206a59d"
      },
      "source": [
        "df1 = df[df.TotalCharges!=' ']\n",
        "df1.shape"
      ],
      "execution_count": null,
      "outputs": [
        {
          "data": {
            "text/plain": [
              "(7032, 20)"
            ]
          },
          "execution_count": 18,
          "metadata": {},
          "output_type": "execute_result"
        }
      ]
    },
    {
      "cell_type": "code",
      "metadata": {
        "scrolled": true,
        "id": "NKPHY5dWAttg",
        "outputId": "efc02823-d66f-4856-bbeb-6c0b2efa9664"
      },
      "source": [
        "df1.dtypes"
      ],
      "execution_count": null,
      "outputs": [
        {
          "data": {
            "text/plain": [
              "gender               object\n",
              "SeniorCitizen         int64\n",
              "Partner              object\n",
              "Dependents           object\n",
              "tenure                int64\n",
              "PhoneService         object\n",
              "MultipleLines        object\n",
              "InternetService      object\n",
              "OnlineSecurity       object\n",
              "OnlineBackup         object\n",
              "DeviceProtection     object\n",
              "TechSupport          object\n",
              "StreamingTV          object\n",
              "StreamingMovies      object\n",
              "Contract             object\n",
              "PaperlessBilling     object\n",
              "PaymentMethod        object\n",
              "MonthlyCharges      float64\n",
              "TotalCharges         object\n",
              "Churn                object\n",
              "dtype: object"
            ]
          },
          "execution_count": 19,
          "metadata": {},
          "output_type": "execute_result"
        }
      ]
    },
    {
      "cell_type": "code",
      "metadata": {
        "id": "p6oH9BI7Attg"
      },
      "source": [
        "df1.TotalCharges = pd.to_numeric(df1.TotalCharges)"
      ],
      "execution_count": null,
      "outputs": []
    },
    {
      "cell_type": "code",
      "metadata": {
        "id": "INjYKduxAttg",
        "outputId": "8d84c147-43ec-40aa-b175-557a6e266f81"
      },
      "source": [
        "df1.TotalCharges.values"
      ],
      "execution_count": null,
      "outputs": [
        {
          "data": {
            "text/plain": [
              "array([  29.85, 1889.5 ,  108.15, ...,  346.45,  306.6 , 6844.5 ])"
            ]
          },
          "execution_count": 21,
          "metadata": {},
          "output_type": "execute_result"
        }
      ]
    },
    {
      "cell_type": "code",
      "metadata": {
        "id": "WRQIMPzUAtti"
      },
      "source": [
        "def print_unique_col_values(df):\n",
        "       for column in df:\n",
        "            if df[column].dtypes=='object':\n",
        "                print(f'{column}: {df[column].unique()}') "
      ],
      "execution_count": null,
      "outputs": []
    },
    {
      "cell_type": "code",
      "metadata": {
        "scrolled": true,
        "id": "xCKGJ0kkAtti",
        "outputId": "c9c85ecf-e069-4999-ae7d-5369decaca21"
      },
      "source": [
        "print_unique_col_values(df1)"
      ],
      "execution_count": null,
      "outputs": [
        {
          "name": "stdout",
          "output_type": "stream",
          "text": [
            "gender: ['Female' 'Male']\n",
            "Partner: ['Yes' 'No']\n",
            "Dependents: ['No' 'Yes']\n",
            "PhoneService: ['No' 'Yes']\n",
            "MultipleLines: ['No phone service' 'No' 'Yes']\n",
            "InternetService: ['DSL' 'Fiber optic' 'No']\n",
            "OnlineSecurity: ['No' 'Yes' 'No internet service']\n",
            "OnlineBackup: ['Yes' 'No' 'No internet service']\n",
            "DeviceProtection: ['No' 'Yes' 'No internet service']\n",
            "TechSupport: ['No' 'Yes' 'No internet service']\n",
            "StreamingTV: ['No' 'Yes' 'No internet service']\n",
            "StreamingMovies: ['No' 'Yes' 'No internet service']\n",
            "Contract: ['Month-to-month' 'One year' 'Two year']\n",
            "PaperlessBilling: ['Yes' 'No']\n",
            "PaymentMethod: ['Electronic check' 'Mailed check' 'Bank transfer (automatic)'\n",
            " 'Credit card (automatic)']\n",
            "Churn: ['No' 'Yes']\n"
          ]
        }
      ]
    },
    {
      "cell_type": "markdown",
      "metadata": {
        "id": "bj-rnsDUAtti"
      },
      "source": [
        "**Some of the columns have no internet service or no phone service, that can be replaced with a simple No**"
      ]
    },
    {
      "cell_type": "code",
      "metadata": {
        "scrolled": false,
        "id": "sh8tWgjAAtti"
      },
      "source": [
        "df1.replace('No internet service','No',inplace=True)\n",
        "df1.replace('No phone service','No',inplace=True)"
      ],
      "execution_count": null,
      "outputs": []
    },
    {
      "cell_type": "code",
      "metadata": {
        "scrolled": false,
        "id": "_rMiuzWEAtti",
        "outputId": "22d34789-1d47-412d-a71c-0fee1699e3d4"
      },
      "source": [
        "print_unique_col_values(df1)"
      ],
      "execution_count": null,
      "outputs": [
        {
          "name": "stdout",
          "output_type": "stream",
          "text": [
            "gender: ['Female' 'Male']\n",
            "Partner: ['Yes' 'No']\n",
            "Dependents: ['No' 'Yes']\n",
            "PhoneService: ['No' 'Yes']\n",
            "MultipleLines: ['No' 'Yes']\n",
            "InternetService: ['DSL' 'Fiber optic' 'No']\n",
            "OnlineSecurity: ['No' 'Yes']\n",
            "OnlineBackup: ['Yes' 'No']\n",
            "DeviceProtection: ['No' 'Yes']\n",
            "TechSupport: ['No' 'Yes']\n",
            "StreamingTV: ['No' 'Yes']\n",
            "StreamingMovies: ['No' 'Yes']\n",
            "Contract: ['Month-to-month' 'One year' 'Two year']\n",
            "PaperlessBilling: ['Yes' 'No']\n",
            "PaymentMethod: ['Electronic check' 'Mailed check' 'Bank transfer (automatic)'\n",
            " 'Credit card (automatic)']\n",
            "Churn: ['No' 'Yes']\n"
          ]
        }
      ]
    },
    {
      "cell_type": "markdown",
      "metadata": {
        "id": "Pps0gsTWAttj"
      },
      "source": [
        "**Convert Yes and No to 1 or 0**"
      ]
    },
    {
      "cell_type": "code",
      "metadata": {
        "id": "xZZHIwATAttj"
      },
      "source": [
        "yes_no_columns = ['Partner','Dependents','PhoneService','MultipleLines','OnlineSecurity','OnlineBackup',\n",
        "                  'DeviceProtection','TechSupport','StreamingTV','StreamingMovies','PaperlessBilling','Churn']\n",
        "for col in yes_no_columns:\n",
        "    df1[col].replace({'Yes': 1,'No': 0},inplace=True)"
      ],
      "execution_count": null,
      "outputs": []
    },
    {
      "cell_type": "code",
      "metadata": {
        "id": "feO90mSHAttj",
        "outputId": "5893985b-d3ba-48d3-be92-1165c9b1cb61"
      },
      "source": [
        "for col in df1:\n",
        "    print(f'{col}: {df1[col].unique()}') "
      ],
      "execution_count": null,
      "outputs": [
        {
          "name": "stdout",
          "output_type": "stream",
          "text": [
            "gender: ['Female' 'Male']\n",
            "SeniorCitizen: [0 1]\n",
            "Partner: [1 0]\n",
            "Dependents: [0 1]\n",
            "tenure: [ 1 34  2 45  8 22 10 28 62 13 16 58 49 25 69 52 71 21 12 30 47 72 17 27\n",
            "  5 46 11 70 63 43 15 60 18 66  9  3 31 50 64 56  7 42 35 48 29 65 38 68\n",
            " 32 55 37 36 41  6  4 33 67 23 57 61 14 20 53 40 59 24 44 19 54 51 26 39]\n",
            "PhoneService: [0 1]\n",
            "MultipleLines: [0 1]\n",
            "InternetService: ['DSL' 'Fiber optic' 'No']\n",
            "OnlineSecurity: [0 1]\n",
            "OnlineBackup: [1 0]\n",
            "DeviceProtection: [0 1]\n",
            "TechSupport: [0 1]\n",
            "StreamingTV: [0 1]\n",
            "StreamingMovies: [0 1]\n",
            "Contract: ['Month-to-month' 'One year' 'Two year']\n",
            "PaperlessBilling: [1 0]\n",
            "PaymentMethod: ['Electronic check' 'Mailed check' 'Bank transfer (automatic)'\n",
            " 'Credit card (automatic)']\n",
            "MonthlyCharges: [29.85 56.95 53.85 ... 63.1  44.2  78.7 ]\n",
            "TotalCharges: [  29.85 1889.5   108.15 ...  346.45  306.6  6844.5 ]\n",
            "Churn: [0 1]\n"
          ]
        }
      ]
    },
    {
      "cell_type": "code",
      "metadata": {
        "id": "yWlbOc2fAttj"
      },
      "source": [
        "df1['gender'].replace({'Female':1,'Male':0},inplace=True)"
      ],
      "execution_count": null,
      "outputs": []
    },
    {
      "cell_type": "code",
      "metadata": {
        "id": "yaJN4vLyAttk",
        "outputId": "c71e6c92-9cc8-4381-886a-c4d43fc857e3"
      },
      "source": [
        "df1.gender.unique()"
      ],
      "execution_count": null,
      "outputs": [
        {
          "data": {
            "text/plain": [
              "array([1, 0], dtype=int64)"
            ]
          },
          "execution_count": 32,
          "metadata": {},
          "output_type": "execute_result"
        }
      ]
    },
    {
      "cell_type": "markdown",
      "metadata": {
        "id": "BWhqED4tAttk"
      },
      "source": [
        "**One hot encoding for categorical columns**"
      ]
    },
    {
      "cell_type": "code",
      "metadata": {
        "id": "Ej-D5QJcAttk",
        "outputId": "2a4022c5-62b7-4658-bd2d-eeb09400c629"
      },
      "source": [
        "df2 = pd.get_dummies(data=df1, columns=['InternetService','Contract','PaymentMethod'])\n",
        "df2.columns"
      ],
      "execution_count": null,
      "outputs": [
        {
          "data": {
            "text/plain": [
              "Index(['gender', 'SeniorCitizen', 'Partner', 'Dependents', 'tenure',\n",
              "       'PhoneService', 'MultipleLines', 'OnlineSecurity', 'OnlineBackup',\n",
              "       'DeviceProtection', 'TechSupport', 'StreamingTV', 'StreamingMovies',\n",
              "       'PaperlessBilling', 'MonthlyCharges', 'TotalCharges', 'Churn',\n",
              "       'InternetService_DSL', 'InternetService_Fiber optic',\n",
              "       'InternetService_No', 'Contract_Month-to-month', 'Contract_One year',\n",
              "       'Contract_Two year', 'PaymentMethod_Bank transfer (automatic)',\n",
              "       'PaymentMethod_Credit card (automatic)',\n",
              "       'PaymentMethod_Electronic check', 'PaymentMethod_Mailed check'],\n",
              "      dtype='object')"
            ]
          },
          "execution_count": 33,
          "metadata": {},
          "output_type": "execute_result"
        }
      ]
    },
    {
      "cell_type": "code",
      "metadata": {
        "id": "0nehKFAMAttk",
        "outputId": "076f0213-ad01-48c0-9435-081cad3a623a"
      },
      "source": [
        "df2.sample(5)"
      ],
      "execution_count": null,
      "outputs": [
        {
          "data": {
            "text/html": [
              "<div>\n",
              "<style scoped>\n",
              "    .dataframe tbody tr th:only-of-type {\n",
              "        vertical-align: middle;\n",
              "    }\n",
              "\n",
              "    .dataframe tbody tr th {\n",
              "        vertical-align: top;\n",
              "    }\n",
              "\n",
              "    .dataframe thead th {\n",
              "        text-align: right;\n",
              "    }\n",
              "</style>\n",
              "<table border=\"1\" class=\"dataframe\">\n",
              "  <thead>\n",
              "    <tr style=\"text-align: right;\">\n",
              "      <th></th>\n",
              "      <th>gender</th>\n",
              "      <th>SeniorCitizen</th>\n",
              "      <th>Partner</th>\n",
              "      <th>Dependents</th>\n",
              "      <th>tenure</th>\n",
              "      <th>PhoneService</th>\n",
              "      <th>MultipleLines</th>\n",
              "      <th>OnlineSecurity</th>\n",
              "      <th>OnlineBackup</th>\n",
              "      <th>DeviceProtection</th>\n",
              "      <th>...</th>\n",
              "      <th>InternetService_DSL</th>\n",
              "      <th>InternetService_Fiber optic</th>\n",
              "      <th>InternetService_No</th>\n",
              "      <th>Contract_Month-to-month</th>\n",
              "      <th>Contract_One year</th>\n",
              "      <th>Contract_Two year</th>\n",
              "      <th>PaymentMethod_Bank transfer (automatic)</th>\n",
              "      <th>PaymentMethod_Credit card (automatic)</th>\n",
              "      <th>PaymentMethod_Electronic check</th>\n",
              "      <th>PaymentMethod_Mailed check</th>\n",
              "    </tr>\n",
              "  </thead>\n",
              "  <tbody>\n",
              "    <tr>\n",
              "      <th>2548</th>\n",
              "      <td>0</td>\n",
              "      <td>1</td>\n",
              "      <td>0</td>\n",
              "      <td>0</td>\n",
              "      <td>8</td>\n",
              "      <td>1</td>\n",
              "      <td>0</td>\n",
              "      <td>0</td>\n",
              "      <td>0</td>\n",
              "      <td>0</td>\n",
              "      <td>...</td>\n",
              "      <td>0</td>\n",
              "      <td>1</td>\n",
              "      <td>0</td>\n",
              "      <td>1</td>\n",
              "      <td>0</td>\n",
              "      <td>0</td>\n",
              "      <td>0</td>\n",
              "      <td>1</td>\n",
              "      <td>0</td>\n",
              "      <td>0</td>\n",
              "    </tr>\n",
              "    <tr>\n",
              "      <th>2047</th>\n",
              "      <td>0</td>\n",
              "      <td>0</td>\n",
              "      <td>0</td>\n",
              "      <td>0</td>\n",
              "      <td>3</td>\n",
              "      <td>1</td>\n",
              "      <td>0</td>\n",
              "      <td>1</td>\n",
              "      <td>0</td>\n",
              "      <td>1</td>\n",
              "      <td>...</td>\n",
              "      <td>1</td>\n",
              "      <td>0</td>\n",
              "      <td>0</td>\n",
              "      <td>1</td>\n",
              "      <td>0</td>\n",
              "      <td>0</td>\n",
              "      <td>0</td>\n",
              "      <td>0</td>\n",
              "      <td>1</td>\n",
              "      <td>0</td>\n",
              "    </tr>\n",
              "    <tr>\n",
              "      <th>2499</th>\n",
              "      <td>0</td>\n",
              "      <td>0</td>\n",
              "      <td>0</td>\n",
              "      <td>1</td>\n",
              "      <td>41</td>\n",
              "      <td>1</td>\n",
              "      <td>0</td>\n",
              "      <td>1</td>\n",
              "      <td>1</td>\n",
              "      <td>1</td>\n",
              "      <td>...</td>\n",
              "      <td>1</td>\n",
              "      <td>0</td>\n",
              "      <td>0</td>\n",
              "      <td>0</td>\n",
              "      <td>1</td>\n",
              "      <td>0</td>\n",
              "      <td>0</td>\n",
              "      <td>0</td>\n",
              "      <td>0</td>\n",
              "      <td>1</td>\n",
              "    </tr>\n",
              "    <tr>\n",
              "      <th>951</th>\n",
              "      <td>1</td>\n",
              "      <td>0</td>\n",
              "      <td>0</td>\n",
              "      <td>0</td>\n",
              "      <td>8</td>\n",
              "      <td>1</td>\n",
              "      <td>0</td>\n",
              "      <td>0</td>\n",
              "      <td>1</td>\n",
              "      <td>0</td>\n",
              "      <td>...</td>\n",
              "      <td>0</td>\n",
              "      <td>1</td>\n",
              "      <td>0</td>\n",
              "      <td>1</td>\n",
              "      <td>0</td>\n",
              "      <td>0</td>\n",
              "      <td>0</td>\n",
              "      <td>0</td>\n",
              "      <td>1</td>\n",
              "      <td>0</td>\n",
              "    </tr>\n",
              "    <tr>\n",
              "      <th>5893</th>\n",
              "      <td>0</td>\n",
              "      <td>0</td>\n",
              "      <td>1</td>\n",
              "      <td>1</td>\n",
              "      <td>12</td>\n",
              "      <td>1</td>\n",
              "      <td>1</td>\n",
              "      <td>0</td>\n",
              "      <td>0</td>\n",
              "      <td>0</td>\n",
              "      <td>...</td>\n",
              "      <td>0</td>\n",
              "      <td>0</td>\n",
              "      <td>1</td>\n",
              "      <td>0</td>\n",
              "      <td>0</td>\n",
              "      <td>1</td>\n",
              "      <td>1</td>\n",
              "      <td>0</td>\n",
              "      <td>0</td>\n",
              "      <td>0</td>\n",
              "    </tr>\n",
              "  </tbody>\n",
              "</table>\n",
              "<p>5 rows × 27 columns</p>\n",
              "</div>"
            ],
            "text/plain": [
              "      gender  SeniorCitizen  Partner  Dependents  tenure  PhoneService  \\\n",
              "2548       0              1        0           0       8             1   \n",
              "2047       0              0        0           0       3             1   \n",
              "2499       0              0        0           1      41             1   \n",
              "951        1              0        0           0       8             1   \n",
              "5893       0              0        1           1      12             1   \n",
              "\n",
              "      MultipleLines  OnlineSecurity  OnlineBackup  DeviceProtection  ...  \\\n",
              "2548              0               0             0                 0  ...   \n",
              "2047              0               1             0                 1  ...   \n",
              "2499              0               1             1                 1  ...   \n",
              "951               0               0             1                 0  ...   \n",
              "5893              1               0             0                 0  ...   \n",
              "\n",
              "      InternetService_DSL  InternetService_Fiber optic  InternetService_No  \\\n",
              "2548                    0                            1                   0   \n",
              "2047                    1                            0                   0   \n",
              "2499                    1                            0                   0   \n",
              "951                     0                            1                   0   \n",
              "5893                    0                            0                   1   \n",
              "\n",
              "      Contract_Month-to-month  Contract_One year  Contract_Two year  \\\n",
              "2548                        1                  0                  0   \n",
              "2047                        1                  0                  0   \n",
              "2499                        0                  1                  0   \n",
              "951                         1                  0                  0   \n",
              "5893                        0                  0                  1   \n",
              "\n",
              "      PaymentMethod_Bank transfer (automatic)  \\\n",
              "2548                                        0   \n",
              "2047                                        0   \n",
              "2499                                        0   \n",
              "951                                         0   \n",
              "5893                                        1   \n",
              "\n",
              "      PaymentMethod_Credit card (automatic)  PaymentMethod_Electronic check  \\\n",
              "2548                                      1                               0   \n",
              "2047                                      0                               1   \n",
              "2499                                      0                               0   \n",
              "951                                       0                               1   \n",
              "5893                                      0                               0   \n",
              "\n",
              "      PaymentMethod_Mailed check  \n",
              "2548                           0  \n",
              "2047                           0  \n",
              "2499                           1  \n",
              "951                            0  \n",
              "5893                           0  \n",
              "\n",
              "[5 rows x 27 columns]"
            ]
          },
          "execution_count": 34,
          "metadata": {},
          "output_type": "execute_result"
        }
      ]
    },
    {
      "cell_type": "code",
      "metadata": {
        "scrolled": true,
        "id": "sLe4y2ntAttk",
        "outputId": "607aa1e1-6122-44ca-e91f-e115a1dc3d7c"
      },
      "source": [
        "df2.dtypes"
      ],
      "execution_count": null,
      "outputs": [
        {
          "data": {
            "text/plain": [
              "gender                                       int64\n",
              "SeniorCitizen                                int64\n",
              "Partner                                      int64\n",
              "Dependents                                   int64\n",
              "tenure                                       int64\n",
              "PhoneService                                 int64\n",
              "MultipleLines                                int64\n",
              "OnlineSecurity                               int64\n",
              "OnlineBackup                                 int64\n",
              "DeviceProtection                             int64\n",
              "TechSupport                                  int64\n",
              "StreamingTV                                  int64\n",
              "StreamingMovies                              int64\n",
              "PaperlessBilling                             int64\n",
              "MonthlyCharges                             float64\n",
              "TotalCharges                               float64\n",
              "Churn                                        int64\n",
              "InternetService_DSL                          uint8\n",
              "InternetService_Fiber optic                  uint8\n",
              "InternetService_No                           uint8\n",
              "Contract_Month-to-month                      uint8\n",
              "Contract_One year                            uint8\n",
              "Contract_Two year                            uint8\n",
              "PaymentMethod_Bank transfer (automatic)      uint8\n",
              "PaymentMethod_Credit card (automatic)        uint8\n",
              "PaymentMethod_Electronic check               uint8\n",
              "PaymentMethod_Mailed check                   uint8\n",
              "dtype: object"
            ]
          },
          "execution_count": 35,
          "metadata": {},
          "output_type": "execute_result"
        }
      ]
    },
    {
      "cell_type": "code",
      "metadata": {
        "id": "aWiRmdMjAttk"
      },
      "source": [
        "cols_to_scale = ['tenure','MonthlyCharges','TotalCharges']\n",
        "\n",
        "from sklearn.preprocessing import MinMaxScaler\n",
        "scaler = MinMaxScaler()\n",
        "df2[cols_to_scale] = scaler.fit_transform(df2[cols_to_scale])"
      ],
      "execution_count": null,
      "outputs": []
    },
    {
      "cell_type": "code",
      "metadata": {
        "id": "9_YxeBnFAttl",
        "outputId": "0c5df287-892c-4793-94ad-127a1ef99d35"
      },
      "source": [
        "for col in df2:\n",
        "    print(f'{col}: {df2[col].unique()}')"
      ],
      "execution_count": null,
      "outputs": [
        {
          "name": "stdout",
          "output_type": "stream",
          "text": [
            "gender: [1 0]\n",
            "SeniorCitizen: [0 1]\n",
            "Partner: [1 0]\n",
            "Dependents: [0 1]\n",
            "tenure: [0.         0.46478873 0.01408451 0.61971831 0.09859155 0.29577465\n",
            " 0.12676056 0.38028169 0.85915493 0.16901408 0.21126761 0.8028169\n",
            " 0.67605634 0.33802817 0.95774648 0.71830986 0.98591549 0.28169014\n",
            " 0.15492958 0.4084507  0.64788732 1.         0.22535211 0.36619718\n",
            " 0.05633803 0.63380282 0.14084507 0.97183099 0.87323944 0.5915493\n",
            " 0.1971831  0.83098592 0.23943662 0.91549296 0.11267606 0.02816901\n",
            " 0.42253521 0.69014085 0.88732394 0.77464789 0.08450704 0.57746479\n",
            " 0.47887324 0.66197183 0.3943662  0.90140845 0.52112676 0.94366197\n",
            " 0.43661972 0.76056338 0.50704225 0.49295775 0.56338028 0.07042254\n",
            " 0.04225352 0.45070423 0.92957746 0.30985915 0.78873239 0.84507042\n",
            " 0.18309859 0.26760563 0.73239437 0.54929577 0.81690141 0.32394366\n",
            " 0.6056338  0.25352113 0.74647887 0.70422535 0.35211268 0.53521127]\n",
            "PhoneService: [0 1]\n",
            "MultipleLines: [0 1]\n",
            "OnlineSecurity: [0 1]\n",
            "OnlineBackup: [1 0]\n",
            "DeviceProtection: [0 1]\n",
            "TechSupport: [0 1]\n",
            "StreamingTV: [0 1]\n",
            "StreamingMovies: [0 1]\n",
            "PaperlessBilling: [1 0]\n",
            "MonthlyCharges: [0.11542289 0.38507463 0.35422886 ... 0.44626866 0.25820896 0.60149254]\n",
            "TotalCharges: [0.0012751  0.21586661 0.01031041 ... 0.03780868 0.03321025 0.78764136]\n",
            "Churn: [0 1]\n",
            "InternetService_DSL: [1 0]\n",
            "InternetService_Fiber optic: [0 1]\n",
            "InternetService_No: [0 1]\n",
            "Contract_Month-to-month: [1 0]\n",
            "Contract_One year: [0 1]\n",
            "Contract_Two year: [0 1]\n",
            "PaymentMethod_Bank transfer (automatic): [0 1]\n",
            "PaymentMethod_Credit card (automatic): [0 1]\n",
            "PaymentMethod_Electronic check: [1 0]\n",
            "PaymentMethod_Mailed check: [0 1]\n"
          ]
        }
      ]
    },
    {
      "cell_type": "markdown",
      "metadata": {
        "id": "N_THw2YTAttl"
      },
      "source": [
        "**Train test split**"
      ]
    },
    {
      "cell_type": "code",
      "metadata": {
        "id": "RB33L5bSAttl"
      },
      "source": [
        "X = df2.drop('Churn',axis='columns')\n",
        "y = testLabels = df2.Churn.astype(np.float32)\n",
        "\n",
        "from sklearn.model_selection import train_test_split\n",
        "X_train, X_test, y_train, y_test = train_test_split(X, y, test_size=0.2, random_state=15, stratify=y)"
      ],
      "execution_count": null,
      "outputs": []
    },
    {
      "cell_type": "code",
      "metadata": {
        "id": "u1WvXMj1Attm",
        "outputId": "de8efb58-7ca0-4862-b744-901a45e8de50"
      },
      "source": [
        "len(X_train.columns)"
      ],
      "execution_count": null,
      "outputs": [
        {
          "data": {
            "text/plain": [
              "26"
            ]
          },
          "execution_count": 46,
          "metadata": {},
          "output_type": "execute_result"
        }
      ]
    },
    {
      "cell_type": "markdown",
      "metadata": {
        "id": "3knOXzhmAttm"
      },
      "source": [
        "**Build a model (ANN) in tensorflow/keras**"
      ]
    },
    {
      "cell_type": "code",
      "metadata": {
        "id": "R8JR7SzCAttn"
      },
      "source": [
        "from tensorflow_addons import losses"
      ],
      "execution_count": null,
      "outputs": []
    },
    {
      "cell_type": "code",
      "metadata": {
        "id": "JTbCnaWRAttn"
      },
      "source": [
        "import tensorflow as tf\n",
        "from tensorflow import keras\n",
        "from sklearn.metrics import confusion_matrix , classification_report"
      ],
      "execution_count": null,
      "outputs": []
    },
    {
      "cell_type": "code",
      "metadata": {
        "scrolled": true,
        "id": "R6mF9X7CAttn"
      },
      "source": [
        "def ANN(X_train, y_train, X_test, y_test, loss, weights):\n",
        "    model = keras.Sequential([\n",
        "        keras.layers.Dense(26, input_dim=26, activation='relu'),\n",
        "        keras.layers.Dense(15, activation='relu'),\n",
        "        keras.layers.Dense(1, activation='sigmoid')\n",
        "    ])\n",
        "\n",
        "    model.compile(optimizer='adam', loss=loss, metrics=['accuracy'])\n",
        "    \n",
        "    if weights == -1:\n",
        "        model.fit(X_train, y_train, epochs=100)\n",
        "    else:\n",
        "        model.fit(X_train, y_train, epochs=100, class_weight = weights)\n",
        "    \n",
        "    print(model.evaluate(X_test, y_test))\n",
        "    \n",
        "    y_preds = model.predict(X_test)\n",
        "    y_preds = np.round(y_preds)\n",
        "    \n",
        "    print(\"Classification Report: \\n\", classification_report(y_test, y_preds))\n",
        "    \n",
        "    return y_preds"
      ],
      "execution_count": null,
      "outputs": []
    },
    {
      "cell_type": "code",
      "metadata": {
        "id": "Up4kI_3CAttn",
        "outputId": "114b707a-fe46-45e8-9c50-c4349271c775"
      },
      "source": [
        "y_preds = ANN(X_train, y_train, X_test, y_test, 'binary_crossentropy', -1)"
      ],
      "execution_count": null,
      "outputs": [
        {
          "name": "stdout",
          "output_type": "stream",
          "text": [
            "Epoch 1/100\n",
            "176/176 [==============================] - 0s 1ms/step - loss: 0.4940 - accuracy: 0.7593\n",
            "Epoch 2/100\n",
            "176/176 [==============================] - 0s 1ms/step - loss: 0.4263 - accuracy: 0.7988\n",
            "Epoch 3/100\n",
            "176/176 [==============================] - 0s 1ms/step - loss: 0.4201 - accuracy: 0.7984\n",
            "Epoch 4/100\n",
            "176/176 [==============================] - 0s 1ms/step - loss: 0.4177 - accuracy: 0.7995\n",
            "Epoch 5/100\n",
            "176/176 [==============================] - 0s 2ms/step - loss: 0.4121 - accuracy: 0.8041\n",
            "Epoch 6/100\n",
            "176/176 [==============================] - 0s 1ms/step - loss: 0.4113 - accuracy: 0.8060\n",
            "Epoch 7/100\n",
            "176/176 [==============================] - 0s 1ms/step - loss: 0.4088 - accuracy: 0.8080\n",
            "Epoch 8/100\n",
            "176/176 [==============================] - 0s 1ms/step - loss: 0.4075 - accuracy: 0.8064\n",
            "Epoch 9/100\n",
            "176/176 [==============================] - 0s 1ms/step - loss: 0.4058 - accuracy: 0.8059\n",
            "Epoch 10/100\n",
            "176/176 [==============================] - 0s 1ms/step - loss: 0.4047 - accuracy: 0.8089\n",
            "Epoch 11/100\n",
            "176/176 [==============================] - 0s 1ms/step - loss: 0.4039 - accuracy: 0.8071\n",
            "Epoch 12/100\n",
            "176/176 [==============================] - 0s 1ms/step - loss: 0.4023 - accuracy: 0.8105\n",
            "Epoch 13/100\n",
            "176/176 [==============================] - 0s 1ms/step - loss: 0.4014 - accuracy: 0.8110\n",
            "Epoch 14/100\n",
            "176/176 [==============================] - 0s 1ms/step - loss: 0.3996 - accuracy: 0.8068\n",
            "Epoch 15/100\n",
            "176/176 [==============================] - 0s 1ms/step - loss: 0.3990 - accuracy: 0.8094\n",
            "Epoch 16/100\n",
            "176/176 [==============================] - 0s 1ms/step - loss: 0.3974 - accuracy: 0.8110\n",
            "Epoch 17/100\n",
            "176/176 [==============================] - 0s 1ms/step - loss: 0.3961 - accuracy: 0.8108\n",
            "Epoch 18/100\n",
            "176/176 [==============================] - 0s 1ms/step - loss: 0.3944 - accuracy: 0.8151\n",
            "Epoch 19/100\n",
            "176/176 [==============================] - 0s 1ms/step - loss: 0.3951 - accuracy: 0.8119\n",
            "Epoch 20/100\n",
            "176/176 [==============================] - 0s 1ms/step - loss: 0.3932 - accuracy: 0.8119\n",
            "Epoch 21/100\n",
            "176/176 [==============================] - 0s 2ms/step - loss: 0.3917 - accuracy: 0.8171\n",
            "Epoch 22/100\n",
            "176/176 [==============================] - 0s 1ms/step - loss: 0.3918 - accuracy: 0.8153\n",
            "Epoch 23/100\n",
            "176/176 [==============================] - 0s 1ms/step - loss: 0.3908 - accuracy: 0.8165\n",
            "Epoch 24/100\n",
            "176/176 [==============================] - 0s 1ms/step - loss: 0.3901 - accuracy: 0.8135\n",
            "Epoch 25/100\n",
            "176/176 [==============================] - 0s 2ms/step - loss: 0.3891 - accuracy: 0.8130\n",
            "Epoch 26/100\n",
            "176/176 [==============================] - 0s 2ms/step - loss: 0.3876 - accuracy: 0.8158\n",
            "Epoch 27/100\n",
            "176/176 [==============================] - 0s 2ms/step - loss: 0.3871 - accuracy: 0.8183\n",
            "Epoch 28/100\n",
            "176/176 [==============================] - 0s 2ms/step - loss: 0.3860 - accuracy: 0.8190\n",
            "Epoch 29/100\n",
            "176/176 [==============================] - 0s 1ms/step - loss: 0.3868 - accuracy: 0.8180\n",
            "Epoch 30/100\n",
            "176/176 [==============================] - 0s 2ms/step - loss: 0.3843 - accuracy: 0.8181\n",
            "Epoch 31/100\n",
            "176/176 [==============================] - 0s 2ms/step - loss: 0.3845 - accuracy: 0.8155\n",
            "Epoch 32/100\n",
            "176/176 [==============================] - 0s 1ms/step - loss: 0.3828 - accuracy: 0.8213\n",
            "Epoch 33/100\n",
            "176/176 [==============================] - 0s 1ms/step - loss: 0.3836 - accuracy: 0.8203\n",
            "Epoch 34/100\n",
            "176/176 [==============================] - 0s 1ms/step - loss: 0.3822 - accuracy: 0.8180\n",
            "Epoch 35/100\n",
            "176/176 [==============================] - 0s 1ms/step - loss: 0.3810 - accuracy: 0.8194\n",
            "Epoch 36/100\n",
            "176/176 [==============================] - 0s 1ms/step - loss: 0.3805 - accuracy: 0.8197\n",
            "Epoch 37/100\n",
            "176/176 [==============================] - 0s 1ms/step - loss: 0.3807 - accuracy: 0.8204\n",
            "Epoch 38/100\n",
            "176/176 [==============================] - 0s 1ms/step - loss: 0.3799 - accuracy: 0.8187\n",
            "Epoch 39/100\n",
            "176/176 [==============================] - 0s 1ms/step - loss: 0.3778 - accuracy: 0.8229\n",
            "Epoch 40/100\n",
            "176/176 [==============================] - 0s 1ms/step - loss: 0.3768 - accuracy: 0.8210\n",
            "Epoch 41/100\n",
            "176/176 [==============================] - 0s 1ms/step - loss: 0.3762 - accuracy: 0.8199\n",
            "Epoch 42/100\n",
            "176/176 [==============================] - 0s 1ms/step - loss: 0.3758 - accuracy: 0.8226\n",
            "Epoch 43/100\n",
            "176/176 [==============================] - 0s 1ms/step - loss: 0.3767 - accuracy: 0.8233\n",
            "Epoch 44/100\n",
            "176/176 [==============================] - 0s 1ms/step - loss: 0.3753 - accuracy: 0.8260\n",
            "Epoch 45/100\n",
            "176/176 [==============================] - 0s 1ms/step - loss: 0.3732 - accuracy: 0.8222\n",
            "Epoch 46/100\n",
            "176/176 [==============================] - 0s 1ms/step - loss: 0.3740 - accuracy: 0.8235\n",
            "Epoch 47/100\n",
            "176/176 [==============================] - 0s 1ms/step - loss: 0.3729 - accuracy: 0.8244\n",
            "Epoch 48/100\n",
            "176/176 [==============================] - 0s 1ms/step - loss: 0.3723 - accuracy: 0.8249\n",
            "Epoch 49/100\n",
            "176/176 [==============================] - 0s 1ms/step - loss: 0.3721 - accuracy: 0.8254\n",
            "Epoch 50/100\n",
            "176/176 [==============================] - 0s 1ms/step - loss: 0.3710 - accuracy: 0.8265\n",
            "Epoch 51/100\n",
            "176/176 [==============================] - 0s 1ms/step - loss: 0.3712 - accuracy: 0.8265\n",
            "Epoch 52/100\n",
            "176/176 [==============================] - 0s 1ms/step - loss: 0.3688 - accuracy: 0.8274\n",
            "Epoch 53/100\n",
            "176/176 [==============================] - 0s 1ms/step - loss: 0.3692 - accuracy: 0.8242\n",
            "Epoch 54/100\n",
            "176/176 [==============================] - 0s 1ms/step - loss: 0.3693 - accuracy: 0.8260\n",
            "Epoch 55/100\n",
            "176/176 [==============================] - 0s 1ms/step - loss: 0.3684 - accuracy: 0.8242\n",
            "Epoch 56/100\n",
            "176/176 [==============================] - 0s 1ms/step - loss: 0.3680 - accuracy: 0.8244\n",
            "Epoch 57/100\n",
            "176/176 [==============================] - 0s 1ms/step - loss: 0.3664 - accuracy: 0.8272\n",
            "Epoch 58/100\n",
            "176/176 [==============================] - 0s 1ms/step - loss: 0.3670 - accuracy: 0.8238\n",
            "Epoch 59/100\n",
            "176/176 [==============================] - 0s 1ms/step - loss: 0.3670 - accuracy: 0.8238\n",
            "Epoch 60/100\n",
            "176/176 [==============================] - 0s 1ms/step - loss: 0.3661 - accuracy: 0.8265\n",
            "Epoch 61/100\n",
            "176/176 [==============================] - 0s 1ms/step - loss: 0.3654 - accuracy: 0.8288\n",
            "Epoch 62/100\n",
            "176/176 [==============================] - 0s 1ms/step - loss: 0.3663 - accuracy: 0.8290\n",
            "Epoch 63/100\n",
            "176/176 [==============================] - 0s 1ms/step - loss: 0.3644 - accuracy: 0.8265\n",
            "Epoch 64/100\n",
            "176/176 [==============================] - 0s 1ms/step - loss: 0.3635 - accuracy: 0.8290\n",
            "Epoch 65/100\n",
            "176/176 [==============================] - 0s 1ms/step - loss: 0.3630 - accuracy: 0.8272\n",
            "Epoch 66/100\n",
            "176/176 [==============================] - 0s 1ms/step - loss: 0.3615 - accuracy: 0.8279\n",
            "Epoch 67/100\n",
            "176/176 [==============================] - 0s 1ms/step - loss: 0.3630 - accuracy: 0.8274\n",
            "Epoch 68/100\n",
            "176/176 [==============================] - 0s 1ms/step - loss: 0.3625 - accuracy: 0.8265\n",
            "Epoch 69/100\n",
            "176/176 [==============================] - 0s 1ms/step - loss: 0.3612 - accuracy: 0.8277\n",
            "Epoch 70/100\n",
            "176/176 [==============================] - 0s 1ms/step - loss: 0.3607 - accuracy: 0.8284\n",
            "Epoch 71/100\n",
            "176/176 [==============================] - 0s 1ms/step - loss: 0.3604 - accuracy: 0.8309\n",
            "Epoch 72/100\n",
            "176/176 [==============================] - 0s 1ms/step - loss: 0.3604 - accuracy: 0.8295\n",
            "Epoch 73/100\n",
            "176/176 [==============================] - 0s 1ms/step - loss: 0.3590 - accuracy: 0.8284\n",
            "Epoch 74/100\n",
            "176/176 [==============================] - 0s 1ms/step - loss: 0.3586 - accuracy: 0.8300\n",
            "Epoch 75/100\n",
            "176/176 [==============================] - 0s 1ms/step - loss: 0.3583 - accuracy: 0.8300\n",
            "Epoch 76/100\n",
            "176/176 [==============================] - 0s 1ms/step - loss: 0.3575 - accuracy: 0.8318\n",
            "Epoch 77/100\n",
            "176/176 [==============================] - 0s 1ms/step - loss: 0.3575 - accuracy: 0.8334\n",
            "Epoch 78/100\n",
            "176/176 [==============================] - 0s 1ms/step - loss: 0.3563 - accuracy: 0.8345\n",
            "Epoch 79/100\n",
            "176/176 [==============================] - 0s 1ms/step - loss: 0.3580 - accuracy: 0.8309\n",
            "Epoch 80/100\n",
            "176/176 [==============================] - 0s 1ms/step - loss: 0.3554 - accuracy: 0.8320\n",
            "Epoch 81/100\n",
            "176/176 [==============================] - 0s 1ms/step - loss: 0.3563 - accuracy: 0.8322\n",
            "Epoch 82/100\n",
            "176/176 [==============================] - 0s 1ms/step - loss: 0.3546 - accuracy: 0.8345\n",
            "Epoch 83/100\n",
            "176/176 [==============================] - 0s 1ms/step - loss: 0.3562 - accuracy: 0.8293\n",
            "Epoch 84/100\n",
            "176/176 [==============================] - 0s 1ms/step - loss: 0.3536 - accuracy: 0.8322\n",
            "Epoch 85/100\n",
            "176/176 [==============================] - 0s 1ms/step - loss: 0.3544 - accuracy: 0.8308\n",
            "Epoch 86/100\n",
            "176/176 [==============================] - 0s 1ms/step - loss: 0.3522 - accuracy: 0.8350\n",
            "Epoch 87/100\n",
            "176/176 [==============================] - 0s 1ms/step - loss: 0.3527 - accuracy: 0.8329\n",
            "Epoch 88/100\n",
            "176/176 [==============================] - 0s 1ms/step - loss: 0.3517 - accuracy: 0.8329\n",
            "Epoch 89/100\n",
            "176/176 [==============================] - 0s 1ms/step - loss: 0.3513 - accuracy: 0.8334\n",
            "Epoch 90/100\n",
            "176/176 [==============================] - 0s 1ms/step - loss: 0.3515 - accuracy: 0.8332\n",
            "Epoch 91/100\n",
            "176/176 [==============================] - 0s 1ms/step - loss: 0.3509 - accuracy: 0.8354\n",
            "Epoch 92/100\n",
            "176/176 [==============================] - 0s 2ms/step - loss: 0.3506 - accuracy: 0.8375\n",
            "Epoch 93/100\n",
            "176/176 [==============================] - 0s 1ms/step - loss: 0.3503 - accuracy: 0.8336\n",
            "Epoch 94/100\n",
            "176/176 [==============================] - 0s 1ms/step - loss: 0.3490 - accuracy: 0.8338\n",
            "Epoch 95/100\n",
            "176/176 [==============================] - 0s 1ms/step - loss: 0.3481 - accuracy: 0.8331\n",
            "Epoch 96/100\n",
            "176/176 [==============================] - 0s 1ms/step - loss: 0.3481 - accuracy: 0.8377\n",
            "Epoch 97/100\n",
            "176/176 [==============================] - 0s 1ms/step - loss: 0.3473 - accuracy: 0.8380\n",
            "Epoch 98/100\n",
            "176/176 [==============================] - 0s 1ms/step - loss: 0.3471 - accuracy: 0.8359\n",
            "Epoch 99/100\n",
            "176/176 [==============================] - 0s 1ms/step - loss: 0.3475 - accuracy: 0.8343\n",
            "Epoch 100/100\n",
            "176/176 [==============================] - 0s 1ms/step - loss: 0.3479 - accuracy: 0.8334\n",
            "44/44 [==============================] - 0s 1ms/step - loss: 0.4865 - accuracy: 0.7861\n",
            "[0.48652538657188416, 0.7860696315765381]\n",
            "Classification Report: \n",
            "               precision    recall  f1-score   support\n",
            "\n",
            "         0.0       0.84      0.88      0.86      1033\n",
            "         1.0       0.61      0.54      0.57       374\n",
            "\n",
            "    accuracy                           0.79      1407\n",
            "   macro avg       0.73      0.71      0.71      1407\n",
            "weighted avg       0.78      0.79      0.78      1407\n",
            "\n"
          ]
        }
      ]
    },
    {
      "cell_type": "markdown",
      "metadata": {
        "id": "haSfwAcwAttn"
      },
      "source": [
        "## Differnt techniques to tackel un balanced class\n"
      ]
    },
    {
      "cell_type": "markdown",
      "metadata": {
        "id": "dAruY__HAttn"
      },
      "source": [
        "### Method 1: Undersampling"
      ]
    },
    {
      "cell_type": "markdown",
      "metadata": {
        "id": "WURUfFD0Attn"
      },
      "source": [
        "reference: https://www.kaggle.com/rafjaa/resampling-strategies-for-imbalanced-datasets"
      ]
    },
    {
      "cell_type": "code",
      "metadata": {
        "id": "Bff9fNH9Atto"
      },
      "source": [
        "# Class count\n",
        "count_class_0, count_class_1 = df1.Churn.value_counts()\n",
        "\n",
        "# Divide by class\n",
        "df_class_0 = df2[df2['Churn'] == 0]\n",
        "df_class_1 = df2[df2['Churn'] == 1]"
      ],
      "execution_count": null,
      "outputs": []
    },
    {
      "cell_type": "code",
      "metadata": {
        "id": "eDJVbRbhAtto",
        "outputId": "f3d8dd50-8898-4adf-eb85-ed4894d2e4b4"
      },
      "source": [
        "# Undersample 0-class and concat the DataFrames of both class\n",
        "df_class_0_under = df_class_0.sample(count_class_1)\n",
        "df_test_under = pd.concat([df_class_0_under, df_class_1], axis=0)\n",
        "\n",
        "print('Random under-sampling:')\n",
        "print(df_test_under.Churn.value_counts())"
      ],
      "execution_count": null,
      "outputs": [
        {
          "name": "stdout",
          "output_type": "stream",
          "text": [
            "Random under-sampling:\n",
            "1    1869\n",
            "0    1869\n",
            "Name: Churn, dtype: int64\n"
          ]
        }
      ]
    },
    {
      "cell_type": "code",
      "metadata": {
        "id": "RBWxbgrYAtto"
      },
      "source": [
        "X = df_test_under.drop('Churn',axis='columns')\n",
        "y = df_test_under['Churn']\n",
        "\n",
        "from sklearn.model_selection import train_test_split\n",
        "X_train, X_test, y_train, y_test = train_test_split(X, y, test_size=0.2, random_state=15, stratify=y)"
      ],
      "execution_count": null,
      "outputs": []
    },
    {
      "cell_type": "code",
      "metadata": {
        "scrolled": true,
        "id": "QHUNBEvkAtto",
        "outputId": "c51e9bf7-ddc3-4ab1-c838-341312b6925b"
      },
      "source": [
        "# Number of classes in training Data\n",
        "y_train.value_counts()"
      ],
      "execution_count": null,
      "outputs": [
        {
          "data": {
            "text/plain": [
              "1    1495\n",
              "0    1495\n",
              "Name: Churn, dtype: int64"
            ]
          },
          "execution_count": 54,
          "metadata": {},
          "output_type": "execute_result"
        }
      ]
    },
    {
      "cell_type": "markdown",
      "metadata": {
        "id": "0Jl66cKDAtto"
      },
      "source": [
        "**Printing Classification in the last, Scroll down till the last epoch to watch the classification report**"
      ]
    },
    {
      "cell_type": "code",
      "metadata": {
        "scrolled": true,
        "id": "AnqkWMlzAtto",
        "outputId": "c581e6d1-c858-49e7-f4c6-fce0c4040d44"
      },
      "source": [
        "y_preds = ANN(X_train, y_train, X_test, y_test, 'binary_crossentropy', -1)"
      ],
      "execution_count": null,
      "outputs": [
        {
          "name": "stdout",
          "output_type": "stream",
          "text": [
            "Epoch 1/100\n",
            "94/94 [==============================] - 0s 1ms/step - loss: 0.5709 - accuracy: 0.7375\n",
            "Epoch 2/100\n",
            "94/94 [==============================] - 0s 1ms/step - loss: 0.5009 - accuracy: 0.7656\n",
            "Epoch 3/100\n",
            "94/94 [==============================] - 0s 1ms/step - loss: 0.4873 - accuracy: 0.7692\n",
            "Epoch 4/100\n",
            "94/94 [==============================] - 0s 1ms/step - loss: 0.4828 - accuracy: 0.7669\n",
            "Epoch 5/100\n",
            "94/94 [==============================] - 0s 1ms/step - loss: 0.4808 - accuracy: 0.7652\n",
            "Epoch 6/100\n",
            "94/94 [==============================] - 0s 1ms/step - loss: 0.4781 - accuracy: 0.7706\n",
            "Epoch 7/100\n",
            "94/94 [==============================] - 0s 1ms/step - loss: 0.4763 - accuracy: 0.7716\n",
            "Epoch 8/100\n",
            "94/94 [==============================] - 0s 1ms/step - loss: 0.4739 - accuracy: 0.7709\n",
            "Epoch 9/100\n",
            "94/94 [==============================] - 0s 1ms/step - loss: 0.4721 - accuracy: 0.7759\n",
            "Epoch 10/100\n",
            "94/94 [==============================] - 0s 1ms/step - loss: 0.4717 - accuracy: 0.7736\n",
            "Epoch 11/100\n",
            "94/94 [==============================] - 0s 2ms/step - loss: 0.4690 - accuracy: 0.7756\n",
            "Epoch 12/100\n",
            "94/94 [==============================] - 0s 1ms/step - loss: 0.4676 - accuracy: 0.7742\n",
            "Epoch 13/100\n",
            "94/94 [==============================] - 0s 1ms/step - loss: 0.4682 - accuracy: 0.7709\n",
            "Epoch 14/100\n",
            "94/94 [==============================] - 0s 1ms/step - loss: 0.4664 - accuracy: 0.7786\n",
            "Epoch 15/100\n",
            "94/94 [==============================] - 0s 1ms/step - loss: 0.4644 - accuracy: 0.7793\n",
            "Epoch 16/100\n",
            "94/94 [==============================] - 0s 1ms/step - loss: 0.4626 - accuracy: 0.7809\n",
            "Epoch 17/100\n",
            "94/94 [==============================] - 0s 1ms/step - loss: 0.4620 - accuracy: 0.7756\n",
            "Epoch 18/100\n",
            "94/94 [==============================] - 0s 1ms/step - loss: 0.4604 - accuracy: 0.7773\n",
            "Epoch 19/100\n",
            "94/94 [==============================] - 0s 1ms/step - loss: 0.4585 - accuracy: 0.7799\n",
            "Epoch 20/100\n",
            "94/94 [==============================] - 0s 1ms/step - loss: 0.4578 - accuracy: 0.7789\n",
            "Epoch 21/100\n",
            "94/94 [==============================] - 0s 1ms/step - loss: 0.4566 - accuracy: 0.7836\n",
            "Epoch 22/100\n",
            "94/94 [==============================] - 0s 1ms/step - loss: 0.4551 - accuracy: 0.7866\n",
            "Epoch 23/100\n",
            "94/94 [==============================] - 0s 1ms/step - loss: 0.4529 - accuracy: 0.7796\n",
            "Epoch 24/100\n",
            "94/94 [==============================] - 0s 2ms/step - loss: 0.4525 - accuracy: 0.7826\n",
            "Epoch 25/100\n",
            "94/94 [==============================] - 0s 1ms/step - loss: 0.4525 - accuracy: 0.7870\n",
            "Epoch 26/100\n",
            "94/94 [==============================] - 0s 1ms/step - loss: 0.4501 - accuracy: 0.7826\n",
            "Epoch 27/100\n",
            "94/94 [==============================] - 0s 1ms/step - loss: 0.4480 - accuracy: 0.7843\n",
            "Epoch 28/100\n",
            "94/94 [==============================] - 0s 1ms/step - loss: 0.4505 - accuracy: 0.7829\n",
            "Epoch 29/100\n",
            "94/94 [==============================] - 0s 1ms/step - loss: 0.4462 - accuracy: 0.7839\n",
            "Epoch 30/100\n",
            "94/94 [==============================] - 0s 1ms/step - loss: 0.4448 - accuracy: 0.7893\n",
            "Epoch 31/100\n",
            "94/94 [==============================] - 0s 1ms/step - loss: 0.4423 - accuracy: 0.7883\n",
            "Epoch 32/100\n",
            "94/94 [==============================] - 0s 1ms/step - loss: 0.4422 - accuracy: 0.7870\n",
            "Epoch 33/100\n",
            "94/94 [==============================] - 0s 1ms/step - loss: 0.4402 - accuracy: 0.7890\n",
            "Epoch 34/100\n",
            "94/94 [==============================] - 0s 1ms/step - loss: 0.4394 - accuracy: 0.7923\n",
            "Epoch 35/100\n",
            "94/94 [==============================] - 0s 1ms/step - loss: 0.4395 - accuracy: 0.7930\n",
            "Epoch 36/100\n",
            "94/94 [==============================] - 0s 1ms/step - loss: 0.4389 - accuracy: 0.7910\n",
            "Epoch 37/100\n",
            "94/94 [==============================] - 0s 1ms/step - loss: 0.4347 - accuracy: 0.7957\n",
            "Epoch 38/100\n",
            "94/94 [==============================] - 0s 1ms/step - loss: 0.4343 - accuracy: 0.7963\n",
            "Epoch 39/100\n",
            "94/94 [==============================] - 0s 1ms/step - loss: 0.4328 - accuracy: 0.7936\n",
            "Epoch 40/100\n",
            "94/94 [==============================] - 0s 1ms/step - loss: 0.4322 - accuracy: 0.7953\n",
            "Epoch 41/100\n",
            "94/94 [==============================] - 0s 1ms/step - loss: 0.4302 - accuracy: 0.7930\n",
            "Epoch 42/100\n",
            "94/94 [==============================] - 0s 1ms/step - loss: 0.4299 - accuracy: 0.7977\n",
            "Epoch 43/100\n",
            "94/94 [==============================] - 0s 1ms/step - loss: 0.4292 - accuracy: 0.7930\n",
            "Epoch 44/100\n",
            "94/94 [==============================] - 0s 1ms/step - loss: 0.4270 - accuracy: 0.7967\n",
            "Epoch 45/100\n",
            "94/94 [==============================] - 0s 1ms/step - loss: 0.4266 - accuracy: 0.8003\n",
            "Epoch 46/100\n",
            "94/94 [==============================] - 0s 1ms/step - loss: 0.4269 - accuracy: 0.7946\n",
            "Epoch 47/100\n",
            "94/94 [==============================] - 0s 1ms/step - loss: 0.4241 - accuracy: 0.7963\n",
            "Epoch 48/100\n",
            "94/94 [==============================] - 0s 1ms/step - loss: 0.4233 - accuracy: 0.8017\n",
            "Epoch 49/100\n",
            "94/94 [==============================] - 0s 1ms/step - loss: 0.4221 - accuracy: 0.7987\n",
            "Epoch 50/100\n",
            "94/94 [==============================] - 0s 1ms/step - loss: 0.4202 - accuracy: 0.7970\n",
            "Epoch 51/100\n",
            "94/94 [==============================] - 0s 1ms/step - loss: 0.4200 - accuracy: 0.7993\n",
            "Epoch 52/100\n",
            "94/94 [==============================] - 0s 1ms/step - loss: 0.4187 - accuracy: 0.7997\n",
            "Epoch 53/100\n",
            "94/94 [==============================] - 0s 2ms/step - loss: 0.4177 - accuracy: 0.8037\n",
            "Epoch 54/100\n",
            "94/94 [==============================] - 0s 1ms/step - loss: 0.4168 - accuracy: 0.8043\n",
            "Epoch 55/100\n",
            "94/94 [==============================] - 0s 1ms/step - loss: 0.4161 - accuracy: 0.8013\n",
            "Epoch 56/100\n",
            "94/94 [==============================] - 0s 1ms/step - loss: 0.4175 - accuracy: 0.8057\n",
            "Epoch 57/100\n",
            "94/94 [==============================] - 0s 1ms/step - loss: 0.4140 - accuracy: 0.8033\n",
            "Epoch 58/100\n",
            "94/94 [==============================] - 0s 1ms/step - loss: 0.4125 - accuracy: 0.8057\n",
            "Epoch 59/100\n",
            "94/94 [==============================] - 0s 1ms/step - loss: 0.4120 - accuracy: 0.8054\n",
            "Epoch 60/100\n",
            "94/94 [==============================] - 0s 1ms/step - loss: 0.4130 - accuracy: 0.8070\n",
            "Epoch 61/100\n",
            "94/94 [==============================] - 0s 1ms/step - loss: 0.4098 - accuracy: 0.8087\n",
            "Epoch 62/100\n",
            "94/94 [==============================] - 0s 1ms/step - loss: 0.4107 - accuracy: 0.8077\n",
            "Epoch 63/100\n",
            "94/94 [==============================] - 0s 1ms/step - loss: 0.4083 - accuracy: 0.8017\n",
            "Epoch 64/100\n",
            "94/94 [==============================] - 0s 1ms/step - loss: 0.4074 - accuracy: 0.8084\n",
            "Epoch 65/100\n",
            "94/94 [==============================] - 0s 1ms/step - loss: 0.4079 - accuracy: 0.8043\n",
            "Epoch 66/100\n",
            "94/94 [==============================] - 0s 1ms/step - loss: 0.4064 - accuracy: 0.8060\n",
            "Epoch 67/100\n",
            "94/94 [==============================] - 0s 1ms/step - loss: 0.4041 - accuracy: 0.8094\n",
            "Epoch 68/100\n",
            "94/94 [==============================] - 0s 1ms/step - loss: 0.4060 - accuracy: 0.8120\n",
            "Epoch 69/100\n",
            "94/94 [==============================] - 0s 1ms/step - loss: 0.4027 - accuracy: 0.8161\n",
            "Epoch 70/100\n",
            "94/94 [==============================] - 0s 1ms/step - loss: 0.4020 - accuracy: 0.8140\n",
            "Epoch 71/100\n",
            "94/94 [==============================] - 0s 1ms/step - loss: 0.4013 - accuracy: 0.8104\n",
            "Epoch 72/100\n",
            "94/94 [==============================] - 0s 1ms/step - loss: 0.4015 - accuracy: 0.8117\n",
            "Epoch 73/100\n",
            "94/94 [==============================] - 0s 1ms/step - loss: 0.4016 - accuracy: 0.8161\n",
            "Epoch 74/100\n",
            "94/94 [==============================] - 0s 1ms/step - loss: 0.3985 - accuracy: 0.8147\n",
            "Epoch 75/100\n",
            "94/94 [==============================] - 0s 1ms/step - loss: 0.3975 - accuracy: 0.8130\n",
            "Epoch 76/100\n",
            "94/94 [==============================] - 0s 1ms/step - loss: 0.3976 - accuracy: 0.8107\n",
            "Epoch 77/100\n",
            "94/94 [==============================] - 0s 1ms/step - loss: 0.3988 - accuracy: 0.8154\n",
            "Epoch 78/100\n",
            "94/94 [==============================] - 0s 1ms/step - loss: 0.3983 - accuracy: 0.8130\n",
            "Epoch 79/100\n",
            "94/94 [==============================] - 0s 1ms/step - loss: 0.3957 - accuracy: 0.8154\n",
            "Epoch 80/100\n",
            "94/94 [==============================] - 0s 1ms/step - loss: 0.3926 - accuracy: 0.8151\n",
            "Epoch 81/100\n",
            "94/94 [==============================] - 0s 1ms/step - loss: 0.3934 - accuracy: 0.8171\n",
            "Epoch 82/100\n",
            "94/94 [==============================] - 0s 1ms/step - loss: 0.3923 - accuracy: 0.8167\n",
            "Epoch 83/100\n"
          ]
        },
        {
          "name": "stdout",
          "output_type": "stream",
          "text": [
            "94/94 [==============================] - 0s 1ms/step - loss: 0.3910 - accuracy: 0.8161\n",
            "Epoch 84/100\n",
            "94/94 [==============================] - 0s 1ms/step - loss: 0.3908 - accuracy: 0.8201\n",
            "Epoch 85/100\n",
            "94/94 [==============================] - 0s 2ms/step - loss: 0.3898 - accuracy: 0.8191\n",
            "Epoch 86/100\n",
            "94/94 [==============================] - 0s 1ms/step - loss: 0.3885 - accuracy: 0.8184\n",
            "Epoch 87/100\n",
            "94/94 [==============================] - 0s 1ms/step - loss: 0.3921 - accuracy: 0.8174\n",
            "Epoch 88/100\n",
            "94/94 [==============================] - 0s 1ms/step - loss: 0.3883 - accuracy: 0.8204\n",
            "Epoch 89/100\n",
            "94/94 [==============================] - 0s 1ms/step - loss: 0.3863 - accuracy: 0.8234\n",
            "Epoch 90/100\n",
            "94/94 [==============================] - 0s 1ms/step - loss: 0.3856 - accuracy: 0.8231\n",
            "Epoch 91/100\n",
            "94/94 [==============================] - 0s 1ms/step - loss: 0.3846 - accuracy: 0.8204\n",
            "Epoch 92/100\n",
            "94/94 [==============================] - 0s 1ms/step - loss: 0.3847 - accuracy: 0.8211\n",
            "Epoch 93/100\n",
            "94/94 [==============================] - 0s 1ms/step - loss: 0.3831 - accuracy: 0.8214\n",
            "Epoch 94/100\n",
            "94/94 [==============================] - 0s 1ms/step - loss: 0.3829 - accuracy: 0.8247\n",
            "Epoch 95/100\n",
            "94/94 [==============================] - 0s 1ms/step - loss: 0.3820 - accuracy: 0.8221\n",
            "Epoch 96/100\n",
            "94/94 [==============================] - 0s 1ms/step - loss: 0.3827 - accuracy: 0.8237\n",
            "Epoch 97/100\n",
            "94/94 [==============================] - 0s 1ms/step - loss: 0.3819 - accuracy: 0.8227\n",
            "Epoch 98/100\n",
            "94/94 [==============================] - 0s 1ms/step - loss: 0.3805 - accuracy: 0.8271\n",
            "Epoch 99/100\n",
            "94/94 [==============================] - 0s 1ms/step - loss: 0.3802 - accuracy: 0.8261\n",
            "Epoch 100/100\n",
            "94/94 [==============================] - 0s 1ms/step - loss: 0.3781 - accuracy: 0.8264\n",
            "24/24 [==============================] - 0s 1ms/step - loss: 0.5917 - accuracy: 0.7246\n",
            "[0.5916573405265808, 0.7245989441871643]\n",
            "Classification Report: \n",
            "               precision    recall  f1-score   support\n",
            "\n",
            "           0       0.74      0.68      0.71       374\n",
            "           1       0.71      0.76      0.74       374\n",
            "\n",
            "    accuracy                           0.72       748\n",
            "   macro avg       0.73      0.72      0.72       748\n",
            "weighted avg       0.73      0.72      0.72       748\n",
            "\n"
          ]
        }
      ]
    },
    {
      "cell_type": "markdown",
      "metadata": {
        "id": "Kw2UnuY3Atto"
      },
      "source": [
        "Check classification report above. f1-score for minority class 1 improved from **0.57 to 0.76**. Score for class 0 reduced to 0.75 from 0.85 but that's ok. We have more generalized classifier which classifies both classes with similar prediction score"
      ]
    },
    {
      "cell_type": "markdown",
      "metadata": {
        "id": "jMSv4kYnAttp"
      },
      "source": [
        "### Method2: Oversampling"
      ]
    },
    {
      "cell_type": "code",
      "metadata": {
        "id": "F7YvGCxYAttp",
        "outputId": "71ea40f9-03de-4e18-8e7a-08d8fcbf884e"
      },
      "source": [
        "# Oversample 1-class and concat the DataFrames of both classes\n",
        "df_class_1_over = df_class_1.sample(count_class_0, replace=True)\n",
        "df_test_over = pd.concat([df_class_0, df_class_1_over], axis=0)\n",
        "\n",
        "print('Random over-sampling:')\n",
        "print(df_test_over.Churn.value_counts())"
      ],
      "execution_count": null,
      "outputs": [
        {
          "name": "stdout",
          "output_type": "stream",
          "text": [
            "Random over-sampling:\n",
            "1    5163\n",
            "0    5163\n",
            "Name: Churn, dtype: int64\n"
          ]
        }
      ]
    },
    {
      "cell_type": "code",
      "metadata": {
        "id": "2xxGp_TsAttp"
      },
      "source": [
        "X = df_test_over.drop('Churn',axis='columns')\n",
        "y = df_test_over['Churn']\n",
        "\n",
        "from sklearn.model_selection import train_test_split\n",
        "X_train, X_test, y_train, y_test = train_test_split(X, y, test_size=0.2, random_state=15, stratify=y)"
      ],
      "execution_count": null,
      "outputs": []
    },
    {
      "cell_type": "code",
      "metadata": {
        "id": "ns0qW_kGAttp",
        "outputId": "d5b5292e-4497-483f-96a6-fb355ec3425b"
      },
      "source": [
        "# Number of classes in training Data\n",
        "y_train.value_counts()"
      ],
      "execution_count": null,
      "outputs": [
        {
          "data": {
            "text/plain": [
              "1    4130\n",
              "0    4130\n",
              "Name: Churn, dtype: int64"
            ]
          },
          "execution_count": 58,
          "metadata": {},
          "output_type": "execute_result"
        }
      ]
    },
    {
      "cell_type": "code",
      "metadata": {
        "scrolled": true,
        "id": "NftPSf-xAttp",
        "outputId": "9b9f372d-ddd9-4175-8e62-6cb9cbe80300"
      },
      "source": [
        "loss = keras.losses.BinaryCrossentropy()\n",
        "weights = -1\n",
        "y_preds = ANN(X_train, y_train, X_test, y_test, 'binary_crossentropy', -1)"
      ],
      "execution_count": null,
      "outputs": [
        {
          "name": "stdout",
          "output_type": "stream",
          "text": [
            "Epoch 1/100\n",
            "259/259 [==============================] - 0s 1ms/step - loss: 0.5655 - accuracy: 0.7068\n",
            "Epoch 2/100\n",
            "259/259 [==============================] - 0s 1ms/step - loss: 0.4985 - accuracy: 0.7529\n",
            "Epoch 3/100\n",
            "259/259 [==============================] - 0s 1ms/step - loss: 0.4913 - accuracy: 0.7607\n",
            "Epoch 4/100\n",
            "259/259 [==============================] - 0s 1ms/step - loss: 0.4854 - accuracy: 0.7650\n",
            "Epoch 5/100\n",
            "259/259 [==============================] - 0s 1ms/step - loss: 0.4814 - accuracy: 0.7655\n",
            "Epoch 6/100\n",
            "259/259 [==============================] - 0s 1ms/step - loss: 0.4787 - accuracy: 0.7688\n",
            "Epoch 7/100\n",
            "259/259 [==============================] - 0s 1ms/step - loss: 0.4769 - accuracy: 0.7703\n",
            "Epoch 8/100\n",
            "259/259 [==============================] - 0s 1ms/step - loss: 0.4742 - accuracy: 0.7714\n",
            "Epoch 9/100\n",
            "259/259 [==============================] - 0s 1ms/step - loss: 0.4717 - accuracy: 0.7703\n",
            "Epoch 10/100\n",
            "259/259 [==============================] - 0s 1ms/step - loss: 0.4693 - accuracy: 0.7748\n",
            "Epoch 11/100\n",
            "259/259 [==============================] - 0s 1ms/step - loss: 0.4676 - accuracy: 0.7745\n",
            "Epoch 12/100\n",
            "259/259 [==============================] - 0s 1ms/step - loss: 0.4665 - accuracy: 0.7769\n",
            "Epoch 13/100\n",
            "259/259 [==============================] - 0s 1ms/step - loss: 0.4631 - accuracy: 0.7805\n",
            "Epoch 14/100\n",
            "259/259 [==============================] - 0s 1ms/step - loss: 0.4612 - accuracy: 0.7776\n",
            "Epoch 15/100\n",
            "259/259 [==============================] - 0s 1ms/step - loss: 0.4597 - accuracy: 0.7824\n",
            "Epoch 16/100\n",
            "259/259 [==============================] - 0s 1ms/step - loss: 0.4578 - accuracy: 0.7795\n",
            "Epoch 17/100\n",
            "259/259 [==============================] - 0s 1ms/step - loss: 0.4556 - accuracy: 0.7809\n",
            "Epoch 18/100\n",
            "259/259 [==============================] - 0s 1ms/step - loss: 0.4544 - accuracy: 0.7806\n",
            "Epoch 19/100\n",
            "259/259 [==============================] - 0s 1ms/step - loss: 0.4524 - accuracy: 0.7843\n",
            "Epoch 20/100\n",
            "259/259 [==============================] - 0s 1ms/step - loss: 0.4505 - accuracy: 0.7827\n",
            "Epoch 21/100\n",
            "259/259 [==============================] - 0s 1ms/step - loss: 0.4484 - accuracy: 0.7862\n",
            "Epoch 22/100\n",
            "259/259 [==============================] - 0s 1ms/step - loss: 0.4454 - accuracy: 0.7858\n",
            "Epoch 23/100\n",
            "259/259 [==============================] - 0s 1ms/step - loss: 0.4441 - accuracy: 0.7900\n",
            "Epoch 24/100\n",
            "259/259 [==============================] - 0s 1ms/step - loss: 0.4427 - accuracy: 0.7916\n",
            "Epoch 25/100\n",
            "259/259 [==============================] - 0s 1ms/step - loss: 0.4402 - accuracy: 0.7904\n",
            "Epoch 26/100\n",
            "259/259 [==============================] - 0s 1ms/step - loss: 0.4385 - accuracy: 0.7941\n",
            "Epoch 27/100\n",
            "259/259 [==============================] - 0s 1ms/step - loss: 0.4377 - accuracy: 0.7944\n",
            "Epoch 28/100\n",
            "259/259 [==============================] - 0s 1ms/step - loss: 0.4348 - accuracy: 0.7948\n",
            "Epoch 29/100\n",
            "259/259 [==============================] - 0s 1ms/step - loss: 0.4335 - accuracy: 0.7962\n",
            "Epoch 30/100\n",
            "259/259 [==============================] - 0s 1ms/step - loss: 0.4313 - accuracy: 0.7977\n",
            "Epoch 31/100\n",
            "259/259 [==============================] - 0s 1ms/step - loss: 0.4301 - accuracy: 0.7988\n",
            "Epoch 32/100\n",
            "259/259 [==============================] - 0s 1ms/step - loss: 0.4290 - accuracy: 0.7983\n",
            "Epoch 33/100\n",
            "259/259 [==============================] - 0s 1ms/step - loss: 0.4271 - accuracy: 0.8023\n",
            "Epoch 34/100\n",
            "259/259 [==============================] - 0s 1ms/step - loss: 0.4253 - accuracy: 0.8023\n",
            "Epoch 35/100\n",
            "259/259 [==============================] - 0s 1ms/step - loss: 0.4245 - accuracy: 0.8039\n",
            "Epoch 36/100\n",
            "259/259 [==============================] - 0s 1ms/step - loss: 0.4225 - accuracy: 0.8012\n",
            "Epoch 37/100\n",
            "259/259 [==============================] - 0s 1ms/step - loss: 0.4215 - accuracy: 0.8048\n",
            "Epoch 38/100\n",
            "259/259 [==============================] - 0s 1ms/step - loss: 0.4197 - accuracy: 0.8025\n",
            "Epoch 39/100\n",
            "259/259 [==============================] - 0s 1ms/step - loss: 0.4183 - accuracy: 0.8065\n",
            "Epoch 40/100\n",
            "259/259 [==============================] - 0s 1ms/step - loss: 0.4174 - accuracy: 0.8035\n",
            "Epoch 41/100\n",
            "259/259 [==============================] - 0s 1ms/step - loss: 0.4157 - accuracy: 0.8061\n",
            "Epoch 42/100\n",
            "259/259 [==============================] - 0s 1ms/step - loss: 0.4144 - accuracy: 0.8051\n",
            "Epoch 43/100\n",
            "259/259 [==============================] - 0s 1ms/step - loss: 0.4131 - accuracy: 0.8068\n",
            "Epoch 44/100\n",
            "259/259 [==============================] - 0s 1ms/step - loss: 0.4109 - accuracy: 0.8087\n",
            "Epoch 45/100\n",
            "259/259 [==============================] - 0s 1ms/step - loss: 0.4117 - accuracy: 0.8084\n",
            "Epoch 46/100\n",
            "259/259 [==============================] - 0s 1ms/step - loss: 0.4090 - accuracy: 0.8114\n",
            "Epoch 47/100\n",
            "259/259 [==============================] - 0s 1ms/step - loss: 0.4080 - accuracy: 0.8126\n",
            "Epoch 48/100\n",
            "259/259 [==============================] - 0s 1ms/step - loss: 0.4059 - accuracy: 0.8111\n",
            "Epoch 49/100\n",
            "259/259 [==============================] - 0s 1ms/step - loss: 0.4067 - accuracy: 0.8087\n",
            "Epoch 50/100\n",
            "259/259 [==============================] - 0s 1ms/step - loss: 0.4037 - accuracy: 0.8120\n",
            "Epoch 51/100\n",
            "259/259 [==============================] - 0s 1ms/step - loss: 0.4044 - accuracy: 0.8111\n",
            "Epoch 52/100\n",
            "259/259 [==============================] - 0s 1ms/step - loss: 0.4008 - accuracy: 0.8125\n",
            "Epoch 53/100\n",
            "259/259 [==============================] - 0s 1ms/step - loss: 0.3982 - accuracy: 0.8116\n",
            "Epoch 54/100\n",
            "259/259 [==============================] - 0s 1ms/step - loss: 0.3986 - accuracy: 0.8153\n",
            "Epoch 55/100\n",
            "259/259 [==============================] - 0s 1ms/step - loss: 0.3970 - accuracy: 0.8142\n",
            "Epoch 56/100\n",
            "259/259 [==============================] - 0s 1ms/step - loss: 0.3944 - accuracy: 0.8182\n",
            "Epoch 57/100\n",
            "259/259 [==============================] - 0s 1ms/step - loss: 0.3945 - accuracy: 0.8138\n",
            "Epoch 58/100\n",
            "259/259 [==============================] - 0s 1ms/step - loss: 0.3908 - accuracy: 0.8203\n",
            "Epoch 59/100\n",
            "259/259 [==============================] - 0s 1ms/step - loss: 0.3898 - accuracy: 0.8177\n",
            "Epoch 60/100\n",
            "259/259 [==============================] - 0s 1ms/step - loss: 0.3908 - accuracy: 0.8195\n",
            "Epoch 61/100\n",
            "259/259 [==============================] - 0s 1ms/step - loss: 0.3892 - accuracy: 0.8189\n",
            "Epoch 62/100\n",
            "259/259 [==============================] - 0s 1ms/step - loss: 0.3875 - accuracy: 0.8189\n",
            "Epoch 63/100\n",
            "259/259 [==============================] - 0s 1ms/step - loss: 0.3866 - accuracy: 0.8202\n",
            "Epoch 64/100\n",
            "259/259 [==============================] - 0s 1ms/step - loss: 0.3848 - accuracy: 0.8208\n",
            "Epoch 65/100\n",
            "259/259 [==============================] - 0s 1ms/step - loss: 0.3846 - accuracy: 0.8211\n",
            "Epoch 66/100\n",
            "259/259 [==============================] - 0s 1ms/step - loss: 0.3830 - accuracy: 0.8223\n",
            "Epoch 67/100\n",
            "259/259 [==============================] - 0s 1ms/step - loss: 0.3814 - accuracy: 0.8223\n",
            "Epoch 68/100\n",
            "259/259 [==============================] - 0s 1ms/step - loss: 0.3799 - accuracy: 0.8247\n",
            "Epoch 69/100\n",
            "259/259 [==============================] - 0s 1ms/step - loss: 0.3787 - accuracy: 0.8243\n",
            "Epoch 70/100\n",
            "259/259 [==============================] - 0s 1ms/step - loss: 0.3787 - accuracy: 0.8262\n",
            "Epoch 71/100\n",
            "259/259 [==============================] - 0s 1ms/step - loss: 0.3781 - accuracy: 0.8265\n",
            "Epoch 72/100\n",
            "259/259 [==============================] - 0s 1ms/step - loss: 0.3746 - accuracy: 0.8293\n",
            "Epoch 73/100\n",
            "259/259 [==============================] - 0s 1ms/step - loss: 0.3753 - accuracy: 0.8248\n",
            "Epoch 74/100\n",
            "259/259 [==============================] - 0s 1ms/step - loss: 0.3749 - accuracy: 0.8274\n",
            "Epoch 75/100\n",
            "259/259 [==============================] - 0s 1ms/step - loss: 0.3737 - accuracy: 0.8268\n",
            "Epoch 76/100\n",
            "259/259 [==============================] - 0s 1ms/step - loss: 0.3720 - accuracy: 0.8291\n",
            "Epoch 77/100\n",
            "259/259 [==============================] - 0s 1ms/step - loss: 0.3722 - accuracy: 0.8308\n",
            "Epoch 78/100\n",
            "259/259 [==============================] - 0s 1ms/step - loss: 0.3713 - accuracy: 0.8285\n",
            "Epoch 79/100\n",
            "259/259 [==============================] - 0s 1ms/step - loss: 0.3713 - accuracy: 0.8289\n",
            "Epoch 80/100\n",
            "259/259 [==============================] - 0s 1ms/step - loss: 0.3688 - accuracy: 0.8316\n",
            "Epoch 81/100\n",
            "259/259 [==============================] - 0s 1ms/step - loss: 0.3677 - accuracy: 0.8338\n",
            "Epoch 82/100\n",
            "259/259 [==============================] - 0s 1ms/step - loss: 0.3674 - accuracy: 0.8322\n",
            "Epoch 83/100\n",
            "259/259 [==============================] - 0s 1ms/step - loss: 0.3671 - accuracy: 0.8316\n",
            "Epoch 84/100\n",
            "259/259 [==============================] - 0s 1ms/step - loss: 0.3669 - accuracy: 0.8300\n",
            "Epoch 85/100\n",
            "259/259 [==============================] - 0s 1ms/step - loss: 0.3656 - accuracy: 0.8322\n",
            "Epoch 86/100\n",
            "259/259 [==============================] - 0s 1ms/step - loss: 0.3653 - accuracy: 0.8352\n",
            "Epoch 87/100\n",
            "259/259 [==============================] - 0s 1ms/step - loss: 0.3641 - accuracy: 0.8355\n",
            "Epoch 88/100\n",
            "259/259 [==============================] - 0s 1ms/step - loss: 0.3639 - accuracy: 0.8341\n",
            "Epoch 89/100\n",
            "259/259 [==============================] - 0s 1ms/step - loss: 0.3616 - accuracy: 0.8360\n",
            "Epoch 90/100\n",
            "259/259 [==============================] - 0s 1ms/step - loss: 0.3614 - accuracy: 0.8379\n",
            "Epoch 91/100\n",
            "259/259 [==============================] - 0s 1ms/step - loss: 0.3613 - accuracy: 0.8345\n",
            "Epoch 92/100\n",
            "259/259 [==============================] - 0s 1ms/step - loss: 0.3595 - accuracy: 0.8362\n",
            "Epoch 93/100\n",
            "259/259 [==============================] - 0s 1ms/step - loss: 0.3586 - accuracy: 0.8364\n",
            "Epoch 94/100\n",
            "259/259 [==============================] - 0s 1ms/step - loss: 0.3584 - accuracy: 0.8364\n",
            "Epoch 95/100\n",
            "259/259 [==============================] - 0s 1ms/step - loss: 0.3586 - accuracy: 0.8392\n",
            "Epoch 96/100\n",
            "259/259 [==============================] - 0s 1ms/step - loss: 0.3582 - accuracy: 0.8378\n",
            "Epoch 97/100\n",
            "259/259 [==============================] - 0s 1ms/step - loss: 0.3555 - accuracy: 0.8370\n",
            "Epoch 98/100\n",
            "259/259 [==============================] - 0s 1ms/step - loss: 0.3562 - accuracy: 0.8402\n",
            "Epoch 99/100\n",
            "259/259 [==============================] - 0s 1ms/step - loss: 0.3543 - accuracy: 0.8397\n",
            "Epoch 100/100\n",
            "259/259 [==============================] - 0s 1ms/step - loss: 0.3543 - accuracy: 0.8400\n",
            "65/65 [==============================] - 0s 1ms/step - loss: 0.4601 - accuracy: 0.7851\n",
            "[0.4600695073604584, 0.7850919365882874]\n",
            "Classification Report: \n",
            "               precision    recall  f1-score   support\n",
            "\n",
            "           0       0.84      0.70      0.77      1033\n",
            "           1       0.74      0.87      0.80      1033\n",
            "\n",
            "    accuracy                           0.79      2066\n",
            "   macro avg       0.79      0.79      0.78      2066\n",
            "weighted avg       0.79      0.79      0.78      2066\n",
            "\n"
          ]
        }
      ]
    },
    {
      "cell_type": "markdown",
      "metadata": {
        "id": "JwWaGUZhAttp"
      },
      "source": [
        "Check classification report above. f1-score for minority class 1 improved from **0.57 to 0.76**. Score for class 0 reduced to 0.75 from 0.85 but that's ok. We have more generalized classifier which classifies both classes with similar prediction score"
      ]
    },
    {
      "cell_type": "markdown",
      "metadata": {
        "id": "rAaYz9nvAttp"
      },
      "source": [
        "### Method3: SMOTE"
      ]
    },
    {
      "cell_type": "markdown",
      "metadata": {
        "id": "TUs0Mx1aAttp"
      },
      "source": [
        "To install imbalanced-learn library use **pip install imbalanced-learn** command"
      ]
    },
    {
      "cell_type": "code",
      "metadata": {
        "id": "zRQ3kdr8Attq"
      },
      "source": [
        "X = df2.drop('Churn',axis='columns')\n",
        "y = df2['Churn']"
      ],
      "execution_count": null,
      "outputs": []
    },
    {
      "cell_type": "code",
      "metadata": {
        "id": "ReN7Y2o8Attq",
        "outputId": "0e97cdb2-e48d-42cd-b385-0abc32b69c42"
      },
      "source": [
        "from imblearn.over_sampling import SMOTE\n",
        "\n",
        "smote = SMOTE(sampling_strategy='minority')\n",
        "X_sm, y_sm = smote.fit_sample(X, y)\n",
        "\n",
        "y_sm.value_counts()"
      ],
      "execution_count": null,
      "outputs": [
        {
          "data": {
            "text/plain": [
              "1    5163\n",
              "0    5163\n",
              "Name: Churn, dtype: int64"
            ]
          },
          "execution_count": 61,
          "metadata": {},
          "output_type": "execute_result"
        }
      ]
    },
    {
      "cell_type": "code",
      "metadata": {
        "id": "Yv3kBg8LAttq"
      },
      "source": [
        "from sklearn.model_selection import train_test_split\n",
        "X_train, X_test, y_train, y_test = train_test_split(X_sm, y_sm, test_size=0.2, random_state=15, stratify=y_sm)"
      ],
      "execution_count": null,
      "outputs": []
    },
    {
      "cell_type": "code",
      "metadata": {
        "scrolled": true,
        "id": "nyku7WSYAttq",
        "outputId": "0d8b2fe6-dc2b-4a7a-ede1-83efdecc5d0c"
      },
      "source": [
        "# Number of classes in training Data\n",
        "y_train.value_counts()"
      ],
      "execution_count": null,
      "outputs": [
        {
          "data": {
            "text/plain": [
              "1    4130\n",
              "0    4130\n",
              "Name: Churn, dtype: int64"
            ]
          },
          "execution_count": 63,
          "metadata": {},
          "output_type": "execute_result"
        }
      ]
    },
    {
      "cell_type": "code",
      "metadata": {
        "scrolled": true,
        "id": "LlfUNYgaAttq",
        "outputId": "435b3fc3-009a-47ff-8416-78a3041ca2ce"
      },
      "source": [
        "y_preds = ANN(X_train, y_train, X_test, y_test, 'binary_crossentropy', -1)"
      ],
      "execution_count": null,
      "outputs": [
        {
          "name": "stdout",
          "output_type": "stream",
          "text": [
            "Epoch 1/100\n",
            "259/259 [==============================] - 0s 1ms/step - loss: 0.5222 - accuracy: 0.7470\n",
            "Epoch 2/100\n",
            "259/259 [==============================] - 0s 1ms/step - loss: 0.4716 - accuracy: 0.7712\n",
            "Epoch 3/100\n",
            "259/259 [==============================] - 0s 1ms/step - loss: 0.4627 - accuracy: 0.7798\n",
            "Epoch 4/100\n",
            "259/259 [==============================] - 0s 1ms/step - loss: 0.4552 - accuracy: 0.7824\n",
            "Epoch 5/100\n",
            "259/259 [==============================] - 0s 1ms/step - loss: 0.4518 - accuracy: 0.7852\n",
            "Epoch 6/100\n",
            "259/259 [==============================] - 0s 1ms/step - loss: 0.4472 - accuracy: 0.7860\n",
            "Epoch 7/100\n",
            "259/259 [==============================] - 0s 1ms/step - loss: 0.4443 - accuracy: 0.7904\n",
            "Epoch 8/100\n",
            "259/259 [==============================] - 0s 1ms/step - loss: 0.4396 - accuracy: 0.7953\n",
            "Epoch 9/100\n",
            "259/259 [==============================] - 0s 1ms/step - loss: 0.4367 - accuracy: 0.7944\n",
            "Epoch 10/100\n",
            "259/259 [==============================] - 0s 1ms/step - loss: 0.4350 - accuracy: 0.7961\n",
            "Epoch 11/100\n",
            "259/259 [==============================] - 0s 1ms/step - loss: 0.4290 - accuracy: 0.7985\n",
            "Epoch 12/100\n",
            "259/259 [==============================] - 0s 1ms/step - loss: 0.4271 - accuracy: 0.8008\n",
            "Epoch 13/100\n",
            "259/259 [==============================] - 0s 1ms/step - loss: 0.4228 - accuracy: 0.8059\n",
            "Epoch 14/100\n",
            "259/259 [==============================] - 0s 1ms/step - loss: 0.4198 - accuracy: 0.8058\n",
            "Epoch 15/100\n",
            "259/259 [==============================] - 0s 1ms/step - loss: 0.4192 - accuracy: 0.8061\n",
            "Epoch 16/100\n",
            "259/259 [==============================] - 0s 1ms/step - loss: 0.4133 - accuracy: 0.8126\n",
            "Epoch 17/100\n",
            "259/259 [==============================] - 0s 1ms/step - loss: 0.4124 - accuracy: 0.8120\n",
            "Epoch 18/100\n",
            "259/259 [==============================] - 0s 1ms/step - loss: 0.4081 - accuracy: 0.8151\n",
            "Epoch 19/100\n",
            "259/259 [==============================] - 0s 1ms/step - loss: 0.4056 - accuracy: 0.8165\n",
            "Epoch 20/100\n",
            "259/259 [==============================] - 0s 1ms/step - loss: 0.4029 - accuracy: 0.8178\n",
            "Epoch 21/100\n",
            "259/259 [==============================] - 0s 1ms/step - loss: 0.4013 - accuracy: 0.8194\n",
            "Epoch 22/100\n",
            "259/259 [==============================] - 0s 1ms/step - loss: 0.3991 - accuracy: 0.8203\n",
            "Epoch 23/100\n",
            "259/259 [==============================] - 0s 1ms/step - loss: 0.3975 - accuracy: 0.8224\n",
            "Epoch 24/100\n",
            "259/259 [==============================] - 0s 1ms/step - loss: 0.3943 - accuracy: 0.8185\n",
            "Epoch 25/100\n",
            "259/259 [==============================] - 0s 1ms/step - loss: 0.3933 - accuracy: 0.8229\n",
            "Epoch 26/100\n",
            "259/259 [==============================] - 0s 1ms/step - loss: 0.3937 - accuracy: 0.8219\n",
            "Epoch 27/100\n",
            "259/259 [==============================] - 0s 1ms/step - loss: 0.3907 - accuracy: 0.8236\n",
            "Epoch 28/100\n",
            "259/259 [==============================] - 0s 1ms/step - loss: 0.3883 - accuracy: 0.8224\n",
            "Epoch 29/100\n",
            "259/259 [==============================] - 0s 1ms/step - loss: 0.3866 - accuracy: 0.8259\n",
            "Epoch 30/100\n",
            "259/259 [==============================] - 0s 1ms/step - loss: 0.3846 - accuracy: 0.8301\n",
            "Epoch 31/100\n",
            "259/259 [==============================] - 0s 1ms/step - loss: 0.3825 - accuracy: 0.8285\n",
            "Epoch 32/100\n",
            "259/259 [==============================] - 0s 1ms/step - loss: 0.3822 - accuracy: 0.8308\n",
            "Epoch 33/100\n",
            "259/259 [==============================] - 0s 1ms/step - loss: 0.3812 - accuracy: 0.8301\n",
            "Epoch 34/100\n",
            "259/259 [==============================] - 0s 1ms/step - loss: 0.3801 - accuracy: 0.8306\n",
            "Epoch 35/100\n",
            "259/259 [==============================] - 0s 1ms/step - loss: 0.3761 - accuracy: 0.8341\n",
            "Epoch 36/100\n",
            "259/259 [==============================] - 0s 1ms/step - loss: 0.3765 - accuracy: 0.8333\n",
            "Epoch 37/100\n",
            "259/259 [==============================] - 0s 1ms/step - loss: 0.3766 - accuracy: 0.8326\n",
            "Epoch 38/100\n",
            "259/259 [==============================] - 0s 1ms/step - loss: 0.3750 - accuracy: 0.8327\n",
            "Epoch 39/100\n",
            "259/259 [==============================] - 0s 1ms/step - loss: 0.3739 - accuracy: 0.8358\n",
            "Epoch 40/100\n",
            "259/259 [==============================] - 0s 1ms/step - loss: 0.3717 - accuracy: 0.8368\n",
            "Epoch 41/100\n",
            "259/259 [==============================] - 0s 1ms/step - loss: 0.3716 - accuracy: 0.8368\n",
            "Epoch 42/100\n",
            "259/259 [==============================] - 0s 1ms/step - loss: 0.3711 - accuracy: 0.8361\n",
            "Epoch 43/100\n",
            "259/259 [==============================] - 0s 1ms/step - loss: 0.3689 - accuracy: 0.8387\n",
            "Epoch 44/100\n",
            "259/259 [==============================] - 0s 1ms/step - loss: 0.3673 - accuracy: 0.8377\n",
            "Epoch 45/100\n",
            "259/259 [==============================] - 0s 1ms/step - loss: 0.3695 - accuracy: 0.8370\n",
            "Epoch 46/100\n",
            "259/259 [==============================] - 0s 1ms/step - loss: 0.3676 - accuracy: 0.8374\n",
            "Epoch 47/100\n",
            "259/259 [==============================] - 0s 1ms/step - loss: 0.3660 - accuracy: 0.8391\n",
            "Epoch 48/100\n",
            "259/259 [==============================] - 0s 1ms/step - loss: 0.3646 - accuracy: 0.8427\n",
            "Epoch 49/100\n",
            "259/259 [==============================] - 0s 1ms/step - loss: 0.3627 - accuracy: 0.8392\n",
            "Epoch 50/100\n",
            "259/259 [==============================] - 0s 1ms/step - loss: 0.3634 - accuracy: 0.8374\n",
            "Epoch 51/100\n",
            "259/259 [==============================] - 0s 1ms/step - loss: 0.3616 - accuracy: 0.8402\n",
            "Epoch 52/100\n",
            "259/259 [==============================] - 0s 1ms/step - loss: 0.3614 - accuracy: 0.8400\n",
            "Epoch 53/100\n",
            "259/259 [==============================] - 0s 1ms/step - loss: 0.3608 - accuracy: 0.8412\n",
            "Epoch 54/100\n",
            "259/259 [==============================] - 0s 1ms/step - loss: 0.3598 - accuracy: 0.8404\n",
            "Epoch 55/100\n",
            "259/259 [==============================] - 0s 1ms/step - loss: 0.3576 - accuracy: 0.8431\n",
            "Epoch 56/100\n",
            "259/259 [==============================] - 0s 1ms/step - loss: 0.3621 - accuracy: 0.8400\n",
            "Epoch 57/100\n",
            "259/259 [==============================] - 0s 1ms/step - loss: 0.3570 - accuracy: 0.8421\n",
            "Epoch 58/100\n",
            "259/259 [==============================] - 0s 1ms/step - loss: 0.3606 - accuracy: 0.8401\n",
            "Epoch 59/100\n",
            "259/259 [==============================] - 0s 1ms/step - loss: 0.3551 - accuracy: 0.8452\n",
            "Epoch 60/100\n",
            "259/259 [==============================] - 0s 1ms/step - loss: 0.3561 - accuracy: 0.8413\n",
            "Epoch 61/100\n",
            "259/259 [==============================] - 0s 1ms/step - loss: 0.3559 - accuracy: 0.8444\n",
            "Epoch 62/100\n",
            "259/259 [==============================] - 0s 1ms/step - loss: 0.3540 - accuracy: 0.8419\n",
            "Epoch 63/100\n",
            "259/259 [==============================] - 0s 1ms/step - loss: 0.3543 - accuracy: 0.8454\n",
            "Epoch 64/100\n",
            "259/259 [==============================] - 0s 1ms/step - loss: 0.3548 - accuracy: 0.8410\n",
            "Epoch 65/100\n",
            "259/259 [==============================] - 0s 1ms/step - loss: 0.3542 - accuracy: 0.8415\n",
            "Epoch 66/100\n",
            "259/259 [==============================] - 0s 1ms/step - loss: 0.3553 - accuracy: 0.8439\n",
            "Epoch 67/100\n",
            "259/259 [==============================] - 0s 1ms/step - loss: 0.3500 - accuracy: 0.8472\n",
            "Epoch 68/100\n",
            "259/259 [==============================] - 0s 1ms/step - loss: 0.3506 - accuracy: 0.8444\n",
            "Epoch 69/100\n",
            "259/259 [==============================] - 0s 1ms/step - loss: 0.3506 - accuracy: 0.8494\n",
            "Epoch 70/100\n",
            "259/259 [==============================] - 0s 1ms/step - loss: 0.3528 - accuracy: 0.8465\n",
            "Epoch 71/100\n",
            "259/259 [==============================] - 0s 1ms/step - loss: 0.3497 - accuracy: 0.8470\n",
            "Epoch 72/100\n",
            "259/259 [==============================] - 0s 1ms/step - loss: 0.3502 - accuracy: 0.8449\n",
            "Epoch 73/100\n",
            "259/259 [==============================] - 0s 1ms/step - loss: 0.3490 - accuracy: 0.8492\n",
            "Epoch 74/100\n",
            "259/259 [==============================] - 0s 1ms/step - loss: 0.3478 - accuracy: 0.8466\n",
            "Epoch 75/100\n",
            "259/259 [==============================] - 0s 1ms/step - loss: 0.3464 - accuracy: 0.8489\n",
            "Epoch 76/100\n",
            "259/259 [==============================] - 0s 1ms/step - loss: 0.3480 - accuracy: 0.8467\n",
            "Epoch 77/100\n",
            "259/259 [==============================] - 0s 1ms/step - loss: 0.3465 - accuracy: 0.8492\n",
            "Epoch 78/100\n",
            "259/259 [==============================] - 0s 1ms/step - loss: 0.3469 - accuracy: 0.8502\n",
            "Epoch 79/100\n",
            "259/259 [==============================] - 0s 1ms/step - loss: 0.3470 - accuracy: 0.8492\n",
            "Epoch 80/100\n",
            "259/259 [==============================] - 0s 1ms/step - loss: 0.3460 - accuracy: 0.8515\n",
            "Epoch 81/100\n",
            "259/259 [==============================] - 0s 1ms/step - loss: 0.3432 - accuracy: 0.8523\n",
            "Epoch 82/100\n",
            "259/259 [==============================] - 0s 1ms/step - loss: 0.3458 - accuracy: 0.8471\n",
            "Epoch 83/100\n",
            "259/259 [==============================] - 0s 1ms/step - loss: 0.3453 - accuracy: 0.8487\n",
            "Epoch 84/100\n",
            "259/259 [==============================] - 0s 1ms/step - loss: 0.3439 - accuracy: 0.8519\n",
            "Epoch 85/100\n",
            "259/259 [==============================] - 0s 1ms/step - loss: 0.3423 - accuracy: 0.8472\n",
            "Epoch 86/100\n",
            "259/259 [==============================] - 0s 1ms/step - loss: 0.3437 - accuracy: 0.8483\n",
            "Epoch 87/100\n",
            "259/259 [==============================] - 0s 1ms/step - loss: 0.3411 - accuracy: 0.8500\n",
            "Epoch 88/100\n",
            "259/259 [==============================] - 0s 1ms/step - loss: 0.3436 - accuracy: 0.8512\n",
            "Epoch 89/100\n",
            "259/259 [==============================] - 0s 1ms/step - loss: 0.3416 - accuracy: 0.8515\n",
            "Epoch 90/100\n",
            "259/259 [==============================] - 0s 1ms/step - loss: 0.3405 - accuracy: 0.8539\n",
            "Epoch 91/100\n",
            "259/259 [==============================] - 0s 1ms/step - loss: 0.3417 - accuracy: 0.8531\n",
            "Epoch 92/100\n",
            "259/259 [==============================] - 0s 1ms/step - loss: 0.3403 - accuracy: 0.8518\n",
            "Epoch 93/100\n",
            "259/259 [==============================] - 0s 1ms/step - loss: 0.3422 - accuracy: 0.8513\n",
            "Epoch 94/100\n",
            "259/259 [==============================] - 0s 1ms/step - loss: 0.3377 - accuracy: 0.8542\n",
            "Epoch 95/100\n",
            "259/259 [==============================] - 0s 1ms/step - loss: 0.3394 - accuracy: 0.8522\n",
            "Epoch 96/100\n",
            "259/259 [==============================] - 0s 1ms/step - loss: 0.3396 - accuracy: 0.8561\n",
            "Epoch 97/100\n",
            "259/259 [==============================] - 0s 1ms/step - loss: 0.3357 - accuracy: 0.8521\n",
            "Epoch 98/100\n",
            "259/259 [==============================] - 0s 1ms/step - loss: 0.3370 - accuracy: 0.8511\n",
            "Epoch 99/100\n",
            "259/259 [==============================] - 0s 1ms/step - loss: 0.3393 - accuracy: 0.8524\n",
            "Epoch 100/100\n",
            "259/259 [==============================] - 0s 1ms/step - loss: 0.3389 - accuracy: 0.8544\n",
            "65/65 [==============================] - 0s 1ms/step - loss: 0.4252 - accuracy: 0.8088\n",
            "[0.425162136554718, 0.8088092803955078]\n",
            "Classification Report: \n",
            "               precision    recall  f1-score   support\n",
            "\n",
            "           0       0.84      0.76      0.80      1033\n",
            "           1       0.78      0.85      0.82      1033\n",
            "\n",
            "    accuracy                           0.81      2066\n",
            "   macro avg       0.81      0.81      0.81      2066\n",
            "weighted avg       0.81      0.81      0.81      2066\n",
            "\n"
          ]
        }
      ]
    },
    {
      "cell_type": "markdown",
      "metadata": {
        "id": "flVh5kImAttq"
      },
      "source": [
        "SMOT Oversampling increases f1 score of minority class 1 from **0.57 to 0.81 (huge improvement)** Also over all accuracy improves from 0.78 to 0.80"
      ]
    },
    {
      "cell_type": "markdown",
      "metadata": {
        "id": "QydOG08zAttq"
      },
      "source": [
        "### Method4: Use of Ensemble with undersampling"
      ]
    },
    {
      "cell_type": "code",
      "metadata": {
        "id": "MmMtzJRJAttr",
        "outputId": "6d0b9fee-49b9-4942-fd08-c365f1824d91"
      },
      "source": [
        "df2.Churn.value_counts()"
      ],
      "execution_count": null,
      "outputs": [
        {
          "data": {
            "text/plain": [
              "0    5163\n",
              "1    1869\n",
              "Name: Churn, dtype: int64"
            ]
          },
          "execution_count": 65,
          "metadata": {},
          "output_type": "execute_result"
        }
      ]
    },
    {
      "cell_type": "code",
      "metadata": {
        "id": "UcLSHKG3Attr"
      },
      "source": [
        "# Regain Original features and labels\n",
        "X = df2.drop('Churn',axis='columns')\n",
        "y = df2['Churn']"
      ],
      "execution_count": null,
      "outputs": []
    },
    {
      "cell_type": "code",
      "metadata": {
        "id": "wru3uwDNAttr"
      },
      "source": [
        "from sklearn.model_selection import train_test_split\n",
        "X_train, X_test, y_train, y_test = train_test_split(X, y, test_size=0.2, random_state=15, stratify=y)"
      ],
      "execution_count": null,
      "outputs": []
    },
    {
      "cell_type": "code",
      "metadata": {
        "id": "AjKTqEX7Attr",
        "outputId": "86667cdd-2f2b-4e30-ff95-96eeb86b2347"
      },
      "source": [
        "y_train.value_counts()"
      ],
      "execution_count": null,
      "outputs": [
        {
          "data": {
            "text/plain": [
              "0    4130\n",
              "1    1495\n",
              "Name: Churn, dtype: int64"
            ]
          },
          "execution_count": 68,
          "metadata": {},
          "output_type": "execute_result"
        }
      ]
    },
    {
      "cell_type": "markdown",
      "metadata": {
        "id": "DDK3RCz6Attr"
      },
      "source": [
        "model1 --> class1(1495) + class0(0, 1495)\n",
        "\n",
        "model2 --> class1(1495) + class0(1496, 2990)\n",
        "\n",
        "model3 --> class1(1495) + class0(2990, 4130)"
      ]
    },
    {
      "cell_type": "code",
      "metadata": {
        "id": "lLmLCe45Attr"
      },
      "source": [
        "df3 = X_train.copy()\n",
        "df3['Churn'] = y_train"
      ],
      "execution_count": null,
      "outputs": []
    },
    {
      "cell_type": "code",
      "metadata": {
        "id": "hvS8JAa9Attr",
        "outputId": "f636638f-bf96-4e07-f43c-5720d88748f7"
      },
      "source": [
        "df3.head()"
      ],
      "execution_count": null,
      "outputs": [
        {
          "data": {
            "text/html": [
              "<div>\n",
              "<style scoped>\n",
              "    .dataframe tbody tr th:only-of-type {\n",
              "        vertical-align: middle;\n",
              "    }\n",
              "\n",
              "    .dataframe tbody tr th {\n",
              "        vertical-align: top;\n",
              "    }\n",
              "\n",
              "    .dataframe thead th {\n",
              "        text-align: right;\n",
              "    }\n",
              "</style>\n",
              "<table border=\"1\" class=\"dataframe\">\n",
              "  <thead>\n",
              "    <tr style=\"text-align: right;\">\n",
              "      <th></th>\n",
              "      <th>gender</th>\n",
              "      <th>SeniorCitizen</th>\n",
              "      <th>Partner</th>\n",
              "      <th>Dependents</th>\n",
              "      <th>tenure</th>\n",
              "      <th>PhoneService</th>\n",
              "      <th>MultipleLines</th>\n",
              "      <th>OnlineSecurity</th>\n",
              "      <th>OnlineBackup</th>\n",
              "      <th>DeviceProtection</th>\n",
              "      <th>...</th>\n",
              "      <th>InternetService_Fiber optic</th>\n",
              "      <th>InternetService_No</th>\n",
              "      <th>Contract_Month-to-month</th>\n",
              "      <th>Contract_One year</th>\n",
              "      <th>Contract_Two year</th>\n",
              "      <th>PaymentMethod_Bank transfer (automatic)</th>\n",
              "      <th>PaymentMethod_Credit card (automatic)</th>\n",
              "      <th>PaymentMethod_Electronic check</th>\n",
              "      <th>PaymentMethod_Mailed check</th>\n",
              "      <th>Churn</th>\n",
              "    </tr>\n",
              "  </thead>\n",
              "  <tbody>\n",
              "    <tr>\n",
              "      <th>684</th>\n",
              "      <td>1</td>\n",
              "      <td>0</td>\n",
              "      <td>0</td>\n",
              "      <td>0</td>\n",
              "      <td>0.000000</td>\n",
              "      <td>1</td>\n",
              "      <td>0</td>\n",
              "      <td>0</td>\n",
              "      <td>0</td>\n",
              "      <td>0</td>\n",
              "      <td>...</td>\n",
              "      <td>1</td>\n",
              "      <td>0</td>\n",
              "      <td>1</td>\n",
              "      <td>0</td>\n",
              "      <td>0</td>\n",
              "      <td>0</td>\n",
              "      <td>0</td>\n",
              "      <td>0</td>\n",
              "      <td>1</td>\n",
              "      <td>0</td>\n",
              "    </tr>\n",
              "    <tr>\n",
              "      <th>2446</th>\n",
              "      <td>1</td>\n",
              "      <td>0</td>\n",
              "      <td>0</td>\n",
              "      <td>0</td>\n",
              "      <td>0.239437</td>\n",
              "      <td>1</td>\n",
              "      <td>1</td>\n",
              "      <td>0</td>\n",
              "      <td>1</td>\n",
              "      <td>0</td>\n",
              "      <td>...</td>\n",
              "      <td>1</td>\n",
              "      <td>0</td>\n",
              "      <td>1</td>\n",
              "      <td>0</td>\n",
              "      <td>0</td>\n",
              "      <td>0</td>\n",
              "      <td>1</td>\n",
              "      <td>0</td>\n",
              "      <td>0</td>\n",
              "      <td>1</td>\n",
              "    </tr>\n",
              "    <tr>\n",
              "      <th>1680</th>\n",
              "      <td>0</td>\n",
              "      <td>0</td>\n",
              "      <td>1</td>\n",
              "      <td>1</td>\n",
              "      <td>0.774648</td>\n",
              "      <td>1</td>\n",
              "      <td>1</td>\n",
              "      <td>0</td>\n",
              "      <td>0</td>\n",
              "      <td>0</td>\n",
              "      <td>...</td>\n",
              "      <td>0</td>\n",
              "      <td>1</td>\n",
              "      <td>0</td>\n",
              "      <td>1</td>\n",
              "      <td>0</td>\n",
              "      <td>0</td>\n",
              "      <td>0</td>\n",
              "      <td>0</td>\n",
              "      <td>1</td>\n",
              "      <td>0</td>\n",
              "    </tr>\n",
              "    <tr>\n",
              "      <th>2220</th>\n",
              "      <td>0</td>\n",
              "      <td>0</td>\n",
              "      <td>1</td>\n",
              "      <td>0</td>\n",
              "      <td>1.000000</td>\n",
              "      <td>1</td>\n",
              "      <td>0</td>\n",
              "      <td>1</td>\n",
              "      <td>1</td>\n",
              "      <td>0</td>\n",
              "      <td>...</td>\n",
              "      <td>0</td>\n",
              "      <td>0</td>\n",
              "      <td>0</td>\n",
              "      <td>0</td>\n",
              "      <td>1</td>\n",
              "      <td>1</td>\n",
              "      <td>0</td>\n",
              "      <td>0</td>\n",
              "      <td>0</td>\n",
              "      <td>0</td>\n",
              "    </tr>\n",
              "    <tr>\n",
              "      <th>2842</th>\n",
              "      <td>1</td>\n",
              "      <td>0</td>\n",
              "      <td>0</td>\n",
              "      <td>0</td>\n",
              "      <td>0.042254</td>\n",
              "      <td>0</td>\n",
              "      <td>0</td>\n",
              "      <td>1</td>\n",
              "      <td>0</td>\n",
              "      <td>1</td>\n",
              "      <td>...</td>\n",
              "      <td>0</td>\n",
              "      <td>0</td>\n",
              "      <td>1</td>\n",
              "      <td>0</td>\n",
              "      <td>0</td>\n",
              "      <td>0</td>\n",
              "      <td>0</td>\n",
              "      <td>0</td>\n",
              "      <td>1</td>\n",
              "      <td>0</td>\n",
              "    </tr>\n",
              "  </tbody>\n",
              "</table>\n",
              "<p>5 rows × 27 columns</p>\n",
              "</div>"
            ],
            "text/plain": [
              "      gender  SeniorCitizen  Partner  Dependents    tenure  PhoneService  \\\n",
              "684        1              0        0           0  0.000000             1   \n",
              "2446       1              0        0           0  0.239437             1   \n",
              "1680       0              0        1           1  0.774648             1   \n",
              "2220       0              0        1           0  1.000000             1   \n",
              "2842       1              0        0           0  0.042254             0   \n",
              "\n",
              "      MultipleLines  OnlineSecurity  OnlineBackup  DeviceProtection  ...  \\\n",
              "684               0               0             0                 0  ...   \n",
              "2446              1               0             1                 0  ...   \n",
              "1680              1               0             0                 0  ...   \n",
              "2220              0               1             1                 0  ...   \n",
              "2842              0               1             0                 1  ...   \n",
              "\n",
              "      InternetService_Fiber optic  InternetService_No  \\\n",
              "684                             1                   0   \n",
              "2446                            1                   0   \n",
              "1680                            0                   1   \n",
              "2220                            0                   0   \n",
              "2842                            0                   0   \n",
              "\n",
              "      Contract_Month-to-month  Contract_One year  Contract_Two year  \\\n",
              "684                         1                  0                  0   \n",
              "2446                        1                  0                  0   \n",
              "1680                        0                  1                  0   \n",
              "2220                        0                  0                  1   \n",
              "2842                        1                  0                  0   \n",
              "\n",
              "      PaymentMethod_Bank transfer (automatic)  \\\n",
              "684                                         0   \n",
              "2446                                        0   \n",
              "1680                                        0   \n",
              "2220                                        1   \n",
              "2842                                        0   \n",
              "\n",
              "      PaymentMethod_Credit card (automatic)  PaymentMethod_Electronic check  \\\n",
              "684                                       0                               0   \n",
              "2446                                      1                               0   \n",
              "1680                                      0                               0   \n",
              "2220                                      0                               0   \n",
              "2842                                      0                               0   \n",
              "\n",
              "      PaymentMethod_Mailed check  Churn  \n",
              "684                            1      0  \n",
              "2446                           0      1  \n",
              "1680                           1      0  \n",
              "2220                           0      0  \n",
              "2842                           1      0  \n",
              "\n",
              "[5 rows x 27 columns]"
            ]
          },
          "execution_count": 74,
          "metadata": {},
          "output_type": "execute_result"
        }
      ]
    },
    {
      "cell_type": "code",
      "metadata": {
        "id": "I1MXg0ERAtts"
      },
      "source": [
        "df3_class0 = df3[df3.Churn==0]\n",
        "df3_class1 = df3[df3.Churn==1]"
      ],
      "execution_count": null,
      "outputs": []
    },
    {
      "cell_type": "code",
      "metadata": {
        "id": "00IhI0TmAtts"
      },
      "source": [
        "def get_train_batch(df_majority, df_minority, start, end):\n",
        "    df_train = pd.concat([df_majority[start:end], df_minority], axis=0)\n",
        "\n",
        "    X_train = df_train.drop('Churn', axis='columns')\n",
        "    y_train = df_train.Churn\n",
        "    return X_train, y_train    "
      ],
      "execution_count": null,
      "outputs": []
    },
    {
      "cell_type": "code",
      "metadata": {
        "id": "_YVp10NOAtts",
        "outputId": "0740779a-4e79-49b8-d440-0a8f0bab4a65"
      },
      "source": [
        "X_train, y_train = get_train_batch(df3_class0, df3_class1, 0, 1495)\n",
        "\n",
        "y_pred1 = ANN(X_train, y_train, X_test, y_test, 'binary_crossentropy', -1)"
      ],
      "execution_count": null,
      "outputs": [
        {
          "name": "stdout",
          "output_type": "stream",
          "text": [
            "Epoch 1/100\n",
            "94/94 [==============================] - 0s 1ms/step - loss: 0.5840 - accuracy: 0.7164\n",
            "Epoch 2/100\n",
            "94/94 [==============================] - 0s 1ms/step - loss: 0.5094 - accuracy: 0.7542\n",
            "Epoch 3/100\n",
            "94/94 [==============================] - 0s 1ms/step - loss: 0.4964 - accuracy: 0.7656\n",
            "Epoch 4/100\n",
            "94/94 [==============================] - 0s 1ms/step - loss: 0.4893 - accuracy: 0.7649\n",
            "Epoch 5/100\n",
            "94/94 [==============================] - 0s 1ms/step - loss: 0.4844 - accuracy: 0.7672\n",
            "Epoch 6/100\n",
            "94/94 [==============================] - 0s 1ms/step - loss: 0.4817 - accuracy: 0.7689\n",
            "Epoch 7/100\n",
            "94/94 [==============================] - 0s 1ms/step - loss: 0.4767 - accuracy: 0.7719\n",
            "Epoch 8/100\n",
            "94/94 [==============================] - 0s 1ms/step - loss: 0.4758 - accuracy: 0.7722\n",
            "Epoch 9/100\n",
            "94/94 [==============================] - 0s 1ms/step - loss: 0.4733 - accuracy: 0.7753\n",
            "Epoch 10/100\n",
            "94/94 [==============================] - 0s 1ms/step - loss: 0.4702 - accuracy: 0.7753\n",
            "Epoch 11/100\n",
            "94/94 [==============================] - 0s 1ms/step - loss: 0.4703 - accuracy: 0.7736\n",
            "Epoch 12/100\n",
            "94/94 [==============================] - 0s 1ms/step - loss: 0.4659 - accuracy: 0.7769\n",
            "Epoch 13/100\n",
            "94/94 [==============================] - 0s 1ms/step - loss: 0.4648 - accuracy: 0.7796\n",
            "Epoch 14/100\n",
            "94/94 [==============================] - 0s 1ms/step - loss: 0.4631 - accuracy: 0.7813\n",
            "Epoch 15/100\n",
            "94/94 [==============================] - 0s 1ms/step - loss: 0.4614 - accuracy: 0.7826\n",
            "Epoch 16/100\n",
            "94/94 [==============================] - 0s 1ms/step - loss: 0.4597 - accuracy: 0.7819\n",
            "Epoch 17/100\n",
            "94/94 [==============================] - 0s 1ms/step - loss: 0.4579 - accuracy: 0.7806\n",
            "Epoch 18/100\n",
            "94/94 [==============================] - 0s 1ms/step - loss: 0.4578 - accuracy: 0.7829\n",
            "Epoch 19/100\n",
            "94/94 [==============================] - 0s 1ms/step - loss: 0.4559 - accuracy: 0.7863\n",
            "Epoch 20/100\n",
            "94/94 [==============================] - 0s 1ms/step - loss: 0.4534 - accuracy: 0.7866\n",
            "Epoch 21/100\n",
            "94/94 [==============================] - 0s 1ms/step - loss: 0.4526 - accuracy: 0.7846\n",
            "Epoch 22/100\n",
            "94/94 [==============================] - 0s 1ms/step - loss: 0.4506 - accuracy: 0.7896\n",
            "Epoch 23/100\n",
            "94/94 [==============================] - 0s 1ms/step - loss: 0.4491 - accuracy: 0.7916\n",
            "Epoch 24/100\n",
            "94/94 [==============================] - 0s 1ms/step - loss: 0.4489 - accuracy: 0.7896\n",
            "Epoch 25/100\n",
            "94/94 [==============================] - 0s 1ms/step - loss: 0.4469 - accuracy: 0.7953\n",
            "Epoch 26/100\n",
            "94/94 [==============================] - 0s 1ms/step - loss: 0.4469 - accuracy: 0.7923\n",
            "Epoch 27/100\n",
            "94/94 [==============================] - 0s 1ms/step - loss: 0.4449 - accuracy: 0.7943\n",
            "Epoch 28/100\n",
            "94/94 [==============================] - 0s 1ms/step - loss: 0.4434 - accuracy: 0.7940\n",
            "Epoch 29/100\n",
            "94/94 [==============================] - 0s 1ms/step - loss: 0.4443 - accuracy: 0.7906\n",
            "Epoch 30/100\n",
            "94/94 [==============================] - 0s 1ms/step - loss: 0.4419 - accuracy: 0.7963\n",
            "Epoch 31/100\n",
            "94/94 [==============================] - 0s 1ms/step - loss: 0.4397 - accuracy: 0.7983\n",
            "Epoch 32/100\n",
            "94/94 [==============================] - 0s 1ms/step - loss: 0.4391 - accuracy: 0.7983\n",
            "Epoch 33/100\n",
            "94/94 [==============================] - 0s 1ms/step - loss: 0.4401 - accuracy: 0.7973\n",
            "Epoch 34/100\n",
            "94/94 [==============================] - 0s 1ms/step - loss: 0.4377 - accuracy: 0.7997\n",
            "Epoch 35/100\n",
            "94/94 [==============================] - 0s 1ms/step - loss: 0.4356 - accuracy: 0.8000\n",
            "Epoch 36/100\n",
            "94/94 [==============================] - 0s 1ms/step - loss: 0.4350 - accuracy: 0.7990\n",
            "Epoch 37/100\n",
            "94/94 [==============================] - 0s 1ms/step - loss: 0.4334 - accuracy: 0.8000\n",
            "Epoch 38/100\n",
            "94/94 [==============================] - 0s 1ms/step - loss: 0.4343 - accuracy: 0.7973\n",
            "Epoch 39/100\n",
            "94/94 [==============================] - 0s 2ms/step - loss: 0.4311 - accuracy: 0.7997\n",
            "Epoch 40/100\n",
            "94/94 [==============================] - 0s 1ms/step - loss: 0.4299 - accuracy: 0.8007\n",
            "Epoch 41/100\n",
            "94/94 [==============================] - 0s 1ms/step - loss: 0.4300 - accuracy: 0.8010\n",
            "Epoch 42/100\n",
            "94/94 [==============================] - 0s 1ms/step - loss: 0.4279 - accuracy: 0.8050\n",
            "Epoch 43/100\n",
            "94/94 [==============================] - 0s 1ms/step - loss: 0.4286 - accuracy: 0.8000\n",
            "Epoch 44/100\n",
            "94/94 [==============================] - 0s 1ms/step - loss: 0.4264 - accuracy: 0.8027\n",
            "Epoch 45/100\n",
            "94/94 [==============================] - 0s 1ms/step - loss: 0.4262 - accuracy: 0.8007\n",
            "Epoch 46/100\n",
            "94/94 [==============================] - 0s 1ms/step - loss: 0.4243 - accuracy: 0.8030\n",
            "Epoch 47/100\n",
            "94/94 [==============================] - 0s 1ms/step - loss: 0.4227 - accuracy: 0.8067\n",
            "Epoch 48/100\n",
            "94/94 [==============================] - 0s 1ms/step - loss: 0.4208 - accuracy: 0.8084\n",
            "Epoch 49/100\n",
            "94/94 [==============================] - 0s 1ms/step - loss: 0.4233 - accuracy: 0.8037\n",
            "Epoch 50/100\n",
            "94/94 [==============================] - 0s 1ms/step - loss: 0.4203 - accuracy: 0.8037\n",
            "Epoch 51/100\n",
            "94/94 [==============================] - 0s 1ms/step - loss: 0.4182 - accuracy: 0.8080\n",
            "Epoch 52/100\n",
            "94/94 [==============================] - 0s 1ms/step - loss: 0.4191 - accuracy: 0.8067\n",
            "Epoch 53/100\n",
            "94/94 [==============================] - 0s 1ms/step - loss: 0.4155 - accuracy: 0.8050\n",
            "Epoch 54/100\n",
            "94/94 [==============================] - 0s 1ms/step - loss: 0.4164 - accuracy: 0.8104\n",
            "Epoch 55/100\n",
            "94/94 [==============================] - 0s 1ms/step - loss: 0.4142 - accuracy: 0.8130\n",
            "Epoch 56/100\n",
            "94/94 [==============================] - 0s 1ms/step - loss: 0.4146 - accuracy: 0.8087\n",
            "Epoch 57/100\n",
            "94/94 [==============================] - 0s 1ms/step - loss: 0.4137 - accuracy: 0.8087\n",
            "Epoch 58/100\n",
            "94/94 [==============================] - 0s 1ms/step - loss: 0.4106 - accuracy: 0.8130\n",
            "Epoch 59/100\n",
            "94/94 [==============================] - 0s 1ms/step - loss: 0.4108 - accuracy: 0.8114\n",
            "Epoch 60/100\n",
            "94/94 [==============================] - 0s 1ms/step - loss: 0.4090 - accuracy: 0.8137\n",
            "Epoch 61/100\n",
            "94/94 [==============================] - 0s 1ms/step - loss: 0.4086 - accuracy: 0.8157\n",
            "Epoch 62/100\n",
            "94/94 [==============================] - 0s 1ms/step - loss: 0.4081 - accuracy: 0.8127\n",
            "Epoch 63/100\n",
            "94/94 [==============================] - 0s 1ms/step - loss: 0.4070 - accuracy: 0.8134\n",
            "Epoch 64/100\n",
            "94/94 [==============================] - 0s 1ms/step - loss: 0.4054 - accuracy: 0.8140\n",
            "Epoch 65/100\n",
            "94/94 [==============================] - 0s 1ms/step - loss: 0.4047 - accuracy: 0.8137\n",
            "Epoch 66/100\n",
            "94/94 [==============================] - 0s 1ms/step - loss: 0.4043 - accuracy: 0.8161\n",
            "Epoch 67/100\n",
            "94/94 [==============================] - 0s 1ms/step - loss: 0.4050 - accuracy: 0.8107\n",
            "Epoch 68/100\n",
            "94/94 [==============================] - 0s 1ms/step - loss: 0.4023 - accuracy: 0.8161\n",
            "Epoch 69/100\n",
            "94/94 [==============================] - 0s 1ms/step - loss: 0.4015 - accuracy: 0.8161\n",
            "Epoch 70/100\n",
            "94/94 [==============================] - 0s 1ms/step - loss: 0.4007 - accuracy: 0.8174\n",
            "Epoch 71/100\n",
            "94/94 [==============================] - 0s 1ms/step - loss: 0.4011 - accuracy: 0.8161\n",
            "Epoch 72/100\n",
            "94/94 [==============================] - 0s 1ms/step - loss: 0.3984 - accuracy: 0.8187\n",
            "Epoch 73/100\n",
            "94/94 [==============================] - 0s 1ms/step - loss: 0.3982 - accuracy: 0.8191\n",
            "Epoch 74/100\n",
            "94/94 [==============================] - 0s 1ms/step - loss: 0.3968 - accuracy: 0.8201\n",
            "Epoch 75/100\n",
            "94/94 [==============================] - 0s 2ms/step - loss: 0.3968 - accuracy: 0.8207\n",
            "Epoch 76/100\n",
            "94/94 [==============================] - 0s 1ms/step - loss: 0.3980 - accuracy: 0.8154\n",
            "Epoch 77/100\n",
            "94/94 [==============================] - 0s 1ms/step - loss: 0.3943 - accuracy: 0.8214\n",
            "Epoch 78/100\n",
            "94/94 [==============================] - 0s 1ms/step - loss: 0.3947 - accuracy: 0.8191\n",
            "Epoch 79/100\n",
            "94/94 [==============================] - 0s 1ms/step - loss: 0.3927 - accuracy: 0.8207\n",
            "Epoch 80/100\n",
            "94/94 [==============================] - 0s 1ms/step - loss: 0.3918 - accuracy: 0.8224\n",
            "Epoch 81/100\n",
            "94/94 [==============================] - 0s 1ms/step - loss: 0.3912 - accuracy: 0.8207\n",
            "Epoch 82/100\n",
            "94/94 [==============================] - 0s 1ms/step - loss: 0.3897 - accuracy: 0.8211\n",
            "Epoch 83/100\n"
          ]
        },
        {
          "name": "stdout",
          "output_type": "stream",
          "text": [
            "94/94 [==============================] - 0s 1ms/step - loss: 0.3921 - accuracy: 0.8244\n",
            "Epoch 84/100\n",
            "94/94 [==============================] - 0s 1ms/step - loss: 0.3879 - accuracy: 0.8247\n",
            "Epoch 85/100\n",
            "94/94 [==============================] - 0s 1ms/step - loss: 0.3908 - accuracy: 0.8284\n",
            "Epoch 86/100\n",
            "94/94 [==============================] - 0s 1ms/step - loss: 0.3880 - accuracy: 0.8221\n",
            "Epoch 87/100\n",
            "94/94 [==============================] - 0s 2ms/step - loss: 0.3894 - accuracy: 0.8258\n",
            "Epoch 88/100\n",
            "94/94 [==============================] - 0s 1ms/step - loss: 0.3862 - accuracy: 0.8271\n",
            "Epoch 89/100\n",
            "94/94 [==============================] - 0s 1ms/step - loss: 0.3881 - accuracy: 0.8284\n",
            "Epoch 90/100\n",
            "94/94 [==============================] - 0s 1ms/step - loss: 0.3843 - accuracy: 0.8268\n",
            "Epoch 91/100\n",
            "94/94 [==============================] - 0s 1ms/step - loss: 0.3847 - accuracy: 0.8268\n",
            "Epoch 92/100\n",
            "94/94 [==============================] - 0s 1ms/step - loss: 0.3865 - accuracy: 0.8268\n",
            "Epoch 93/100\n",
            "94/94 [==============================] - 0s 1ms/step - loss: 0.3832 - accuracy: 0.8271\n",
            "Epoch 94/100\n",
            "94/94 [==============================] - 0s 1ms/step - loss: 0.3834 - accuracy: 0.8268\n",
            "Epoch 95/100\n",
            "94/94 [==============================] - 0s 1ms/step - loss: 0.3814 - accuracy: 0.8284\n",
            "Epoch 96/100\n",
            "94/94 [==============================] - 0s 1ms/step - loss: 0.3802 - accuracy: 0.8324\n",
            "Epoch 97/100\n",
            "94/94 [==============================] - 0s 1ms/step - loss: 0.3800 - accuracy: 0.8268\n",
            "Epoch 98/100\n",
            "94/94 [==============================] - 0s 1ms/step - loss: 0.3799 - accuracy: 0.8314\n",
            "Epoch 99/100\n",
            "94/94 [==============================] - 0s 1ms/step - loss: 0.3783 - accuracy: 0.8324\n",
            "Epoch 100/100\n",
            "94/94 [==============================] - 0s 1ms/step - loss: 0.3779 - accuracy: 0.8288\n",
            "44/44 [==============================] - 0s 955us/step - loss: 0.6137 - accuracy: 0.7114\n",
            "[0.6136508584022522, 0.711442768573761]\n",
            "Classification Report: \n",
            "               precision    recall  f1-score   support\n",
            "\n",
            "           0       0.89      0.70      0.78      1033\n",
            "           1       0.47      0.76      0.58       374\n",
            "\n",
            "    accuracy                           0.71      1407\n",
            "   macro avg       0.68      0.73      0.68      1407\n",
            "weighted avg       0.78      0.71      0.73      1407\n",
            "\n"
          ]
        }
      ]
    },
    {
      "cell_type": "code",
      "metadata": {
        "id": "xkUtFYE5Atts",
        "outputId": "625e6a39-ec49-4260-b49b-6855d9fe6d0d"
      },
      "source": [
        "X_train, y_train = get_train_batch(df3_class0, df3_class1, 1495, 2990)\n",
        "\n",
        "y_pred2 = ANN(X_train, y_train, X_test, y_test, 'binary_crossentropy', -1)"
      ],
      "execution_count": null,
      "outputs": [
        {
          "name": "stdout",
          "output_type": "stream",
          "text": [
            "Epoch 1/100\n",
            "94/94 [==============================] - 0s 1ms/step - loss: 0.6486 - accuracy: 0.6328\n",
            "Epoch 2/100\n",
            "94/94 [==============================] - 0s 1ms/step - loss: 0.5236 - accuracy: 0.7522\n",
            "Epoch 3/100\n",
            "94/94 [==============================] - 0s 1ms/step - loss: 0.5005 - accuracy: 0.7572\n",
            "Epoch 4/100\n",
            "94/94 [==============================] - 0s 1ms/step - loss: 0.4935 - accuracy: 0.7592\n",
            "Epoch 5/100\n",
            "94/94 [==============================] - 0s 1ms/step - loss: 0.4883 - accuracy: 0.7562\n",
            "Epoch 6/100\n",
            "94/94 [==============================] - 0s 2ms/step - loss: 0.4845 - accuracy: 0.7605\n",
            "Epoch 7/100\n",
            "94/94 [==============================] - 0s 2ms/step - loss: 0.4795 - accuracy: 0.7625\n",
            "Epoch 8/100\n",
            "94/94 [==============================] - 0s 1ms/step - loss: 0.4778 - accuracy: 0.7642\n",
            "Epoch 9/100\n",
            "94/94 [==============================] - 0s 1ms/step - loss: 0.4747 - accuracy: 0.7659\n",
            "Epoch 10/100\n",
            "94/94 [==============================] - 0s 1ms/step - loss: 0.4719 - accuracy: 0.7692\n",
            "Epoch 11/100\n",
            "94/94 [==============================] - 0s 1ms/step - loss: 0.4682 - accuracy: 0.7696\n",
            "Epoch 12/100\n",
            "94/94 [==============================] - 0s 1ms/step - loss: 0.4659 - accuracy: 0.7689\n",
            "Epoch 13/100\n",
            "94/94 [==============================] - 0s 1ms/step - loss: 0.4679 - accuracy: 0.7659\n",
            "Epoch 14/100\n",
            "94/94 [==============================] - 0s 1ms/step - loss: 0.4625 - accuracy: 0.7712\n",
            "Epoch 15/100\n",
            "94/94 [==============================] - 0s 1ms/step - loss: 0.4596 - accuracy: 0.7776\n",
            "Epoch 16/100\n",
            "94/94 [==============================] - 0s 1ms/step - loss: 0.4590 - accuracy: 0.7722\n",
            "Epoch 17/100\n",
            "94/94 [==============================] - 0s 1ms/step - loss: 0.4556 - accuracy: 0.7799\n",
            "Epoch 18/100\n",
            "94/94 [==============================] - 0s 1ms/step - loss: 0.4539 - accuracy: 0.7783\n",
            "Epoch 19/100\n",
            "94/94 [==============================] - 0s 1ms/step - loss: 0.4519 - accuracy: 0.7806\n",
            "Epoch 20/100\n",
            "94/94 [==============================] - 0s 1ms/step - loss: 0.4499 - accuracy: 0.7819\n",
            "Epoch 21/100\n",
            "94/94 [==============================] - 0s 1ms/step - loss: 0.4497 - accuracy: 0.7873\n",
            "Epoch 22/100\n",
            "94/94 [==============================] - 0s 1ms/step - loss: 0.4473 - accuracy: 0.7803\n",
            "Epoch 23/100\n",
            "94/94 [==============================] - 0s 1ms/step - loss: 0.4466 - accuracy: 0.7836\n",
            "Epoch 24/100\n",
            "94/94 [==============================] - 0s 1ms/step - loss: 0.4439 - accuracy: 0.7860\n",
            "Epoch 25/100\n",
            "94/94 [==============================] - 0s 1ms/step - loss: 0.4429 - accuracy: 0.7876\n",
            "Epoch 26/100\n",
            "94/94 [==============================] - 0s 1ms/step - loss: 0.4435 - accuracy: 0.7843\n",
            "Epoch 27/100\n",
            "94/94 [==============================] - 0s 1ms/step - loss: 0.4405 - accuracy: 0.7843\n",
            "Epoch 28/100\n",
            "94/94 [==============================] - 0s 1ms/step - loss: 0.4381 - accuracy: 0.7906\n",
            "Epoch 29/100\n",
            "94/94 [==============================] - 0s 1ms/step - loss: 0.4364 - accuracy: 0.7896\n",
            "Epoch 30/100\n",
            "94/94 [==============================] - 0s 1ms/step - loss: 0.4377 - accuracy: 0.7870\n",
            "Epoch 31/100\n",
            "94/94 [==============================] - 0s 1ms/step - loss: 0.4347 - accuracy: 0.7946\n",
            "Epoch 32/100\n",
            "94/94 [==============================] - 0s 1ms/step - loss: 0.4325 - accuracy: 0.7963\n",
            "Epoch 33/100\n",
            "94/94 [==============================] - 0s 1ms/step - loss: 0.4315 - accuracy: 0.7946\n",
            "Epoch 34/100\n",
            "94/94 [==============================] - 0s 1ms/step - loss: 0.4293 - accuracy: 0.7946\n",
            "Epoch 35/100\n",
            "94/94 [==============================] - 0s 1ms/step - loss: 0.4299 - accuracy: 0.7943\n",
            "Epoch 36/100\n",
            "94/94 [==============================] - 0s 1ms/step - loss: 0.4280 - accuracy: 0.7963\n",
            "Epoch 37/100\n",
            "94/94 [==============================] - 0s 1ms/step - loss: 0.4253 - accuracy: 0.8003\n",
            "Epoch 38/100\n",
            "94/94 [==============================] - 0s 1ms/step - loss: 0.4271 - accuracy: 0.7953\n",
            "Epoch 39/100\n",
            "94/94 [==============================] - 0s 1ms/step - loss: 0.4233 - accuracy: 0.8010\n",
            "Epoch 40/100\n",
            "94/94 [==============================] - 0s 1ms/step - loss: 0.4234 - accuracy: 0.7993\n",
            "Epoch 41/100\n",
            "94/94 [==============================] - 0s 1ms/step - loss: 0.4198 - accuracy: 0.7993\n",
            "Epoch 42/100\n",
            "94/94 [==============================] - 0s 1ms/step - loss: 0.4186 - accuracy: 0.8007\n",
            "Epoch 43/100\n",
            "94/94 [==============================] - 0s 1ms/step - loss: 0.4188 - accuracy: 0.8020\n",
            "Epoch 44/100\n",
            "94/94 [==============================] - 0s 1ms/step - loss: 0.4167 - accuracy: 0.8050\n",
            "Epoch 45/100\n",
            "94/94 [==============================] - 0s 1ms/step - loss: 0.4152 - accuracy: 0.8057\n",
            "Epoch 46/100\n",
            "94/94 [==============================] - 0s 1ms/step - loss: 0.4139 - accuracy: 0.8033\n",
            "Epoch 47/100\n",
            "94/94 [==============================] - 0s 1ms/step - loss: 0.4134 - accuracy: 0.8060\n",
            "Epoch 48/100\n",
            "94/94 [==============================] - 0s 1ms/step - loss: 0.4112 - accuracy: 0.8090\n",
            "Epoch 49/100\n",
            "94/94 [==============================] - 0s 1ms/step - loss: 0.4093 - accuracy: 0.8057\n",
            "Epoch 50/100\n",
            "94/94 [==============================] - 0s 1ms/step - loss: 0.4099 - accuracy: 0.8067\n",
            "Epoch 51/100\n",
            "94/94 [==============================] - 0s 1ms/step - loss: 0.4090 - accuracy: 0.8057\n",
            "Epoch 52/100\n",
            "94/94 [==============================] - 0s 1ms/step - loss: 0.4065 - accuracy: 0.8054\n",
            "Epoch 53/100\n",
            "94/94 [==============================] - 0s 1ms/step - loss: 0.4050 - accuracy: 0.8084\n",
            "Epoch 54/100\n",
            "94/94 [==============================] - 0s 1ms/step - loss: 0.4031 - accuracy: 0.8064\n",
            "Epoch 55/100\n",
            "94/94 [==============================] - 0s 1ms/step - loss: 0.4024 - accuracy: 0.8140\n",
            "Epoch 56/100\n",
            "94/94 [==============================] - 0s 1ms/step - loss: 0.4005 - accuracy: 0.8151\n",
            "Epoch 57/100\n",
            "94/94 [==============================] - 0s 1ms/step - loss: 0.4020 - accuracy: 0.8074\n",
            "Epoch 58/100\n",
            "94/94 [==============================] - 0s 1ms/step - loss: 0.3997 - accuracy: 0.8140\n",
            "Epoch 59/100\n",
            "94/94 [==============================] - 0s 1ms/step - loss: 0.3982 - accuracy: 0.8140\n",
            "Epoch 60/100\n",
            "94/94 [==============================] - 0s 1ms/step - loss: 0.3974 - accuracy: 0.8154\n",
            "Epoch 61/100\n",
            "94/94 [==============================] - 0s 1ms/step - loss: 0.3969 - accuracy: 0.8114\n",
            "Epoch 62/100\n",
            "94/94 [==============================] - 0s 1ms/step - loss: 0.3955 - accuracy: 0.8140\n",
            "Epoch 63/100\n",
            "94/94 [==============================] - 0s 1ms/step - loss: 0.3961 - accuracy: 0.8134\n",
            "Epoch 64/100\n",
            "94/94 [==============================] - 0s 1ms/step - loss: 0.3938 - accuracy: 0.8161\n",
            "Epoch 65/100\n",
            "94/94 [==============================] - 0s 1ms/step - loss: 0.3912 - accuracy: 0.8177\n",
            "Epoch 66/100\n",
            "94/94 [==============================] - 0s 1ms/step - loss: 0.3922 - accuracy: 0.8127\n",
            "Epoch 67/100\n",
            "94/94 [==============================] - 0s 1ms/step - loss: 0.3899 - accuracy: 0.8174\n",
            "Epoch 68/100\n",
            "94/94 [==============================] - 0s 1ms/step - loss: 0.3909 - accuracy: 0.8147\n",
            "Epoch 69/100\n",
            "94/94 [==============================] - 0s 1ms/step - loss: 0.3891 - accuracy: 0.8194\n",
            "Epoch 70/100\n",
            "94/94 [==============================] - 0s 1ms/step - loss: 0.3878 - accuracy: 0.8207\n",
            "Epoch 71/100\n",
            "94/94 [==============================] - 0s 1ms/step - loss: 0.3870 - accuracy: 0.8214\n",
            "Epoch 72/100\n",
            "94/94 [==============================] - 0s 1ms/step - loss: 0.3870 - accuracy: 0.8224\n",
            "Epoch 73/100\n",
            "94/94 [==============================] - 0s 1ms/step - loss: 0.3852 - accuracy: 0.8214\n",
            "Epoch 74/100\n",
            "94/94 [==============================] - 0s 1ms/step - loss: 0.3847 - accuracy: 0.8247\n",
            "Epoch 75/100\n",
            "94/94 [==============================] - 0s 1ms/step - loss: 0.3846 - accuracy: 0.8191\n",
            "Epoch 76/100\n",
            "94/94 [==============================] - 0s 1ms/step - loss: 0.3835 - accuracy: 0.8201\n",
            "Epoch 77/100\n",
            "94/94 [==============================] - 0s 1ms/step - loss: 0.3825 - accuracy: 0.8264\n",
            "Epoch 78/100\n",
            "94/94 [==============================] - 0s 1ms/step - loss: 0.3830 - accuracy: 0.8184\n",
            "Epoch 79/100\n",
            "94/94 [==============================] - 0s 1ms/step - loss: 0.3813 - accuracy: 0.8244\n",
            "Epoch 80/100\n",
            "94/94 [==============================] - 0s 1ms/step - loss: 0.3784 - accuracy: 0.8278\n",
            "Epoch 81/100\n",
            "94/94 [==============================] - 0s 1ms/step - loss: 0.3794 - accuracy: 0.8227\n",
            "Epoch 82/100\n",
            "94/94 [==============================] - 0s 1ms/step - loss: 0.3788 - accuracy: 0.8224\n",
            "Epoch 83/100\n"
          ]
        },
        {
          "name": "stdout",
          "output_type": "stream",
          "text": [
            "94/94 [==============================] - 0s 1ms/step - loss: 0.3779 - accuracy: 0.8227\n",
            "Epoch 84/100\n",
            "94/94 [==============================] - 0s 1ms/step - loss: 0.3769 - accuracy: 0.8221\n",
            "Epoch 85/100\n",
            "94/94 [==============================] - 0s 1ms/step - loss: 0.3758 - accuracy: 0.8281\n",
            "Epoch 86/100\n",
            "94/94 [==============================] - 0s 1ms/step - loss: 0.3749 - accuracy: 0.8308\n",
            "Epoch 87/100\n",
            "94/94 [==============================] - 0s 1ms/step - loss: 0.3730 - accuracy: 0.8258\n",
            "Epoch 88/100\n",
            "94/94 [==============================] - 0s 1ms/step - loss: 0.3737 - accuracy: 0.8231\n",
            "Epoch 89/100\n",
            "94/94 [==============================] - 0s 1ms/step - loss: 0.3789 - accuracy: 0.8227\n",
            "Epoch 90/100\n",
            "94/94 [==============================] - 0s 1ms/step - loss: 0.3718 - accuracy: 0.8318\n",
            "Epoch 91/100\n",
            "94/94 [==============================] - 0s 1ms/step - loss: 0.3700 - accuracy: 0.8284\n",
            "Epoch 92/100\n",
            "94/94 [==============================] - 0s 1ms/step - loss: 0.3703 - accuracy: 0.8268\n",
            "Epoch 93/100\n",
            "94/94 [==============================] - 0s 1ms/step - loss: 0.3694 - accuracy: 0.8308\n",
            "Epoch 94/100\n",
            "94/94 [==============================] - 0s 1ms/step - loss: 0.3675 - accuracy: 0.8281\n",
            "Epoch 95/100\n",
            "94/94 [==============================] - 0s 1ms/step - loss: 0.3682 - accuracy: 0.8301\n",
            "Epoch 96/100\n",
            "94/94 [==============================] - 0s 1ms/step - loss: 0.3670 - accuracy: 0.8271\n",
            "Epoch 97/100\n",
            "94/94 [==============================] - 0s 1ms/step - loss: 0.3647 - accuracy: 0.8308\n",
            "Epoch 98/100\n",
            "94/94 [==============================] - 0s 1ms/step - loss: 0.3653 - accuracy: 0.8355\n",
            "Epoch 99/100\n",
            "94/94 [==============================] - 0s 1ms/step - loss: 0.3659 - accuracy: 0.8355\n",
            "Epoch 100/100\n",
            "94/94 [==============================] - 0s 1ms/step - loss: 0.3648 - accuracy: 0.8294\n",
            "44/44 [==============================] - 0s 978us/step - loss: 0.6379 - accuracy: 0.7079\n",
            "[0.6378723382949829, 0.7078891396522522]\n",
            "Classification Report: \n",
            "               precision    recall  f1-score   support\n",
            "\n",
            "           0       0.88      0.70      0.78      1033\n",
            "           1       0.47      0.74      0.57       374\n",
            "\n",
            "    accuracy                           0.71      1407\n",
            "   macro avg       0.67      0.72      0.68      1407\n",
            "weighted avg       0.77      0.71      0.72      1407\n",
            "\n"
          ]
        }
      ]
    },
    {
      "cell_type": "code",
      "metadata": {
        "id": "jcAuXvKUAtts",
        "outputId": "97a11265-8442-45f6-dbe1-4c80e86c7467"
      },
      "source": [
        "X_train, y_train = get_train_batch(df3_class0, df3_class1, 2990, 4130)\n",
        "\n",
        "y_pred3 = ANN(X_train, y_train, X_test, y_test, 'binary_crossentropy', -1)"
      ],
      "execution_count": null,
      "outputs": [
        {
          "name": "stdout",
          "output_type": "stream",
          "text": [
            "Epoch 1/100\n",
            "83/83 [==============================] - 0s 1ms/step - loss: 0.6392 - accuracy: 0.6676\n",
            "Epoch 2/100\n",
            "83/83 [==============================] - 0s 1ms/step - loss: 0.5260 - accuracy: 0.7609\n",
            "Epoch 3/100\n",
            "83/83 [==============================] - 0s 1ms/step - loss: 0.4914 - accuracy: 0.7674\n",
            "Epoch 4/100\n",
            "83/83 [==============================] - 0s 1ms/step - loss: 0.4835 - accuracy: 0.7715\n",
            "Epoch 5/100\n",
            "83/83 [==============================] - 0s 1ms/step - loss: 0.4793 - accuracy: 0.7738\n",
            "Epoch 6/100\n",
            "83/83 [==============================] - 0s 1ms/step - loss: 0.4751 - accuracy: 0.7787\n",
            "Epoch 7/100\n",
            "83/83 [==============================] - 0s 1ms/step - loss: 0.4736 - accuracy: 0.7731\n",
            "Epoch 8/100\n",
            "83/83 [==============================] - 0s 1ms/step - loss: 0.4708 - accuracy: 0.7818\n",
            "Epoch 9/100\n",
            "83/83 [==============================] - 0s 1ms/step - loss: 0.4700 - accuracy: 0.7772\n",
            "Epoch 10/100\n",
            "83/83 [==============================] - 0s 1ms/step - loss: 0.4679 - accuracy: 0.7810\n",
            "Epoch 11/100\n",
            "83/83 [==============================] - 0s 1ms/step - loss: 0.4670 - accuracy: 0.7799\n",
            "Epoch 12/100\n",
            "83/83 [==============================] - 0s 1ms/step - loss: 0.4653 - accuracy: 0.7791\n",
            "Epoch 13/100\n",
            "83/83 [==============================] - 0s 2ms/step - loss: 0.4632 - accuracy: 0.7822\n",
            "Epoch 14/100\n",
            "83/83 [==============================] - 0s 2ms/step - loss: 0.4607 - accuracy: 0.7810\n",
            "Epoch 15/100\n",
            "83/83 [==============================] - 0s 1ms/step - loss: 0.4590 - accuracy: 0.7894\n",
            "Epoch 16/100\n",
            "83/83 [==============================] - 0s 1ms/step - loss: 0.4573 - accuracy: 0.7867\n",
            "Epoch 17/100\n",
            "83/83 [==============================] - 0s 1ms/step - loss: 0.4561 - accuracy: 0.7879\n",
            "Epoch 18/100\n",
            "83/83 [==============================] - 0s 1ms/step - loss: 0.4548 - accuracy: 0.7863\n",
            "Epoch 19/100\n",
            "83/83 [==============================] - 0s 1ms/step - loss: 0.4535 - accuracy: 0.7894\n",
            "Epoch 20/100\n",
            "83/83 [==============================] - 0s 2ms/step - loss: 0.4506 - accuracy: 0.7901\n",
            "Epoch 21/100\n",
            "83/83 [==============================] - 0s 1ms/step - loss: 0.4518 - accuracy: 0.7890\n",
            "Epoch 22/100\n",
            "83/83 [==============================] - 0s 1ms/step - loss: 0.4487 - accuracy: 0.7947\n",
            "Epoch 23/100\n",
            "83/83 [==============================] - 0s 1ms/step - loss: 0.4471 - accuracy: 0.7917\n",
            "Epoch 24/100\n",
            "83/83 [==============================] - 0s 1ms/step - loss: 0.4458 - accuracy: 0.7909\n",
            "Epoch 25/100\n",
            "83/83 [==============================] - 0s 1ms/step - loss: 0.4430 - accuracy: 0.7958\n",
            "Epoch 26/100\n",
            "83/83 [==============================] - 0s 1ms/step - loss: 0.4423 - accuracy: 0.7935\n",
            "Epoch 27/100\n",
            "83/83 [==============================] - 0s 1ms/step - loss: 0.4421 - accuracy: 0.7920\n",
            "Epoch 28/100\n",
            "83/83 [==============================] - 0s 1ms/step - loss: 0.4421 - accuracy: 0.7992\n",
            "Epoch 29/100\n",
            "83/83 [==============================] - 0s 1ms/step - loss: 0.4383 - accuracy: 0.7951\n",
            "Epoch 30/100\n",
            "83/83 [==============================] - 0s 1ms/step - loss: 0.4389 - accuracy: 0.7996\n",
            "Epoch 31/100\n",
            "83/83 [==============================] - 0s 1ms/step - loss: 0.4387 - accuracy: 0.7966\n",
            "Epoch 32/100\n",
            "83/83 [==============================] - 0s 1ms/step - loss: 0.4352 - accuracy: 0.7996\n",
            "Epoch 33/100\n",
            "83/83 [==============================] - 0s 1ms/step - loss: 0.4330 - accuracy: 0.8000\n",
            "Epoch 34/100\n",
            "83/83 [==============================] - 0s 1ms/step - loss: 0.4317 - accuracy: 0.8027\n",
            "Epoch 35/100\n",
            "83/83 [==============================] - 0s 1ms/step - loss: 0.4307 - accuracy: 0.8015\n",
            "Epoch 36/100\n",
            "83/83 [==============================] - 0s 1ms/step - loss: 0.4275 - accuracy: 0.8023\n",
            "Epoch 37/100\n",
            "83/83 [==============================] - 0s 1ms/step - loss: 0.4275 - accuracy: 0.8053\n",
            "Epoch 38/100\n",
            "83/83 [==============================] - 0s 1ms/step - loss: 0.4239 - accuracy: 0.8008\n",
            "Epoch 39/100\n",
            "83/83 [==============================] - 0s 1ms/step - loss: 0.4252 - accuracy: 0.8061\n",
            "Epoch 40/100\n",
            "83/83 [==============================] - 0s 1ms/step - loss: 0.4227 - accuracy: 0.8083\n",
            "Epoch 41/100\n",
            "83/83 [==============================] - 0s 1ms/step - loss: 0.4201 - accuracy: 0.8053\n",
            "Epoch 42/100\n",
            "83/83 [==============================] - 0s 1ms/step - loss: 0.4207 - accuracy: 0.8053\n",
            "Epoch 43/100\n",
            "83/83 [==============================] - 0s 1ms/step - loss: 0.4192 - accuracy: 0.8110\n",
            "Epoch 44/100\n",
            "83/83 [==============================] - 0s 1ms/step - loss: 0.4184 - accuracy: 0.8121\n",
            "Epoch 45/100\n",
            "83/83 [==============================] - 0s 1ms/step - loss: 0.4156 - accuracy: 0.8099\n",
            "Epoch 46/100\n",
            "83/83 [==============================] - 0s 1ms/step - loss: 0.4138 - accuracy: 0.8125\n",
            "Epoch 47/100\n",
            "83/83 [==============================] - 0s 1ms/step - loss: 0.4118 - accuracy: 0.8137\n",
            "Epoch 48/100\n",
            "83/83 [==============================] - 0s 1ms/step - loss: 0.4120 - accuracy: 0.8144\n",
            "Epoch 49/100\n",
            "83/83 [==============================] - 0s 2ms/step - loss: 0.4104 - accuracy: 0.8110\n",
            "Epoch 50/100\n",
            "83/83 [==============================] - 0s 2ms/step - loss: 0.4097 - accuracy: 0.8106\n",
            "Epoch 51/100\n",
            "83/83 [==============================] - 0s 1ms/step - loss: 0.4075 - accuracy: 0.8125\n",
            "Epoch 52/100\n",
            "83/83 [==============================] - 0s 1ms/step - loss: 0.4049 - accuracy: 0.8163\n",
            "Epoch 53/100\n",
            "83/83 [==============================] - 0s 1ms/step - loss: 0.4051 - accuracy: 0.8171\n",
            "Epoch 54/100\n",
            "83/83 [==============================] - 0s 1ms/step - loss: 0.4039 - accuracy: 0.8152\n",
            "Epoch 55/100\n",
            "83/83 [==============================] - 0s 1ms/step - loss: 0.4023 - accuracy: 0.8152\n",
            "Epoch 56/100\n",
            "83/83 [==============================] - 0s 1ms/step - loss: 0.4002 - accuracy: 0.8159\n",
            "Epoch 57/100\n",
            "83/83 [==============================] - 0s 1ms/step - loss: 0.4014 - accuracy: 0.8171\n",
            "Epoch 58/100\n",
            "83/83 [==============================] - 0s 1ms/step - loss: 0.3987 - accuracy: 0.8171\n",
            "Epoch 59/100\n",
            "83/83 [==============================] - 0s 1ms/step - loss: 0.3957 - accuracy: 0.8216\n",
            "Epoch 60/100\n",
            "83/83 [==============================] - 0s 1ms/step - loss: 0.3991 - accuracy: 0.8220\n",
            "Epoch 61/100\n",
            "83/83 [==============================] - 0s 1ms/step - loss: 0.3950 - accuracy: 0.8209\n",
            "Epoch 62/100\n",
            "83/83 [==============================] - 0s 1ms/step - loss: 0.3934 - accuracy: 0.8258\n",
            "Epoch 63/100\n",
            "83/83 [==============================] - 0s 1ms/step - loss: 0.3938 - accuracy: 0.8239\n",
            "Epoch 64/100\n",
            "83/83 [==============================] - 0s 1ms/step - loss: 0.3892 - accuracy: 0.8228\n",
            "Epoch 65/100\n",
            "83/83 [==============================] - 0s 1ms/step - loss: 0.3902 - accuracy: 0.8254\n",
            "Epoch 66/100\n",
            "83/83 [==============================] - 0s 1ms/step - loss: 0.3891 - accuracy: 0.8247\n",
            "Epoch 67/100\n",
            "83/83 [==============================] - 0s 1ms/step - loss: 0.3864 - accuracy: 0.8288\n",
            "Epoch 68/100\n",
            "83/83 [==============================] - 0s 1ms/step - loss: 0.3850 - accuracy: 0.8296\n",
            "Epoch 69/100\n",
            "83/83 [==============================] - 0s 1ms/step - loss: 0.3872 - accuracy: 0.8235\n",
            "Epoch 70/100\n",
            "83/83 [==============================] - 0s 1ms/step - loss: 0.3834 - accuracy: 0.8315\n",
            "Epoch 71/100\n",
            "83/83 [==============================] - 0s 1ms/step - loss: 0.3826 - accuracy: 0.8300\n",
            "Epoch 72/100\n",
            "83/83 [==============================] - 0s 1ms/step - loss: 0.3809 - accuracy: 0.8304\n",
            "Epoch 73/100\n",
            "83/83 [==============================] - 0s 1ms/step - loss: 0.3823 - accuracy: 0.8323\n",
            "Epoch 74/100\n",
            "83/83 [==============================] - 0s 1ms/step - loss: 0.3792 - accuracy: 0.8330\n",
            "Epoch 75/100\n",
            "83/83 [==============================] - 0s 1ms/step - loss: 0.3771 - accuracy: 0.8342\n",
            "Epoch 76/100\n",
            "83/83 [==============================] - 0s 1ms/step - loss: 0.3757 - accuracy: 0.8406\n",
            "Epoch 77/100\n",
            "83/83 [==============================] - 0s 1ms/step - loss: 0.3753 - accuracy: 0.8383\n",
            "Epoch 78/100\n",
            "83/83 [==============================] - 0s 1ms/step - loss: 0.3751 - accuracy: 0.8357\n",
            "Epoch 79/100\n",
            "83/83 [==============================] - 0s 1ms/step - loss: 0.3746 - accuracy: 0.8338\n",
            "Epoch 80/100\n",
            "83/83 [==============================] - 0s 1ms/step - loss: 0.3718 - accuracy: 0.8372\n",
            "Epoch 81/100\n",
            "83/83 [==============================] - 0s 1ms/step - loss: 0.3725 - accuracy: 0.8387\n",
            "Epoch 82/100\n",
            "83/83 [==============================] - 0s 1ms/step - loss: 0.3690 - accuracy: 0.8406\n",
            "Epoch 83/100\n"
          ]
        },
        {
          "name": "stdout",
          "output_type": "stream",
          "text": [
            "83/83 [==============================] - 0s 1ms/step - loss: 0.3709 - accuracy: 0.8357\n",
            "Epoch 84/100\n",
            "83/83 [==============================] - 0s 1ms/step - loss: 0.3704 - accuracy: 0.8387\n",
            "Epoch 85/100\n",
            "83/83 [==============================] - 0s 1ms/step - loss: 0.3687 - accuracy: 0.8391\n",
            "Epoch 86/100\n",
            "83/83 [==============================] - 0s 1ms/step - loss: 0.3675 - accuracy: 0.8444\n",
            "Epoch 87/100\n",
            "83/83 [==============================] - 0s 1ms/step - loss: 0.3649 - accuracy: 0.8410\n",
            "Epoch 88/100\n",
            "83/83 [==============================] - 0s 1ms/step - loss: 0.3669 - accuracy: 0.8440\n",
            "Epoch 89/100\n",
            "83/83 [==============================] - 0s 1ms/step - loss: 0.3677 - accuracy: 0.8387\n",
            "Epoch 90/100\n",
            "83/83 [==============================] - 0s 1ms/step - loss: 0.3633 - accuracy: 0.8459\n",
            "Epoch 91/100\n",
            "83/83 [==============================] - 0s 1ms/step - loss: 0.3626 - accuracy: 0.8463\n",
            "Epoch 92/100\n",
            "83/83 [==============================] - 0s 1ms/step - loss: 0.3614 - accuracy: 0.8433\n",
            "Epoch 93/100\n",
            "83/83 [==============================] - 0s 1ms/step - loss: 0.3595 - accuracy: 0.8452\n",
            "Epoch 94/100\n",
            "83/83 [==============================] - 0s 1ms/step - loss: 0.3614 - accuracy: 0.8448\n",
            "Epoch 95/100\n",
            "83/83 [==============================] - 0s 1ms/step - loss: 0.3615 - accuracy: 0.8436\n",
            "Epoch 96/100\n",
            "83/83 [==============================] - 0s 1ms/step - loss: 0.3600 - accuracy: 0.8448\n",
            "Epoch 97/100\n",
            "83/83 [==============================] - 0s 1ms/step - loss: 0.3566 - accuracy: 0.8459\n",
            "Epoch 98/100\n",
            "83/83 [==============================] - 0s 1ms/step - loss: 0.3600 - accuracy: 0.8467\n",
            "Epoch 99/100\n",
            "83/83 [==============================] - 0s 1ms/step - loss: 0.3575 - accuracy: 0.8478\n",
            "Epoch 100/100\n",
            "83/83 [==============================] - 0s 1ms/step - loss: 0.3571 - accuracy: 0.8482\n",
            "44/44 [==============================] - 0s 978us/step - loss: 0.6610 - accuracy: 0.6915\n",
            "[0.6610018014907837, 0.6915422677993774]\n",
            "Classification Report: \n",
            "               precision    recall  f1-score   support\n",
            "\n",
            "           0       0.89      0.66      0.76      1033\n",
            "           1       0.45      0.78      0.57       374\n",
            "\n",
            "    accuracy                           0.69      1407\n",
            "   macro avg       0.67      0.72      0.67      1407\n",
            "weighted avg       0.78      0.69      0.71      1407\n",
            "\n"
          ]
        }
      ]
    },
    {
      "cell_type": "code",
      "metadata": {
        "id": "e0OY4e4UAtts",
        "outputId": "c590dcf7-5e46-480d-c308-0187626a3b5f"
      },
      "source": [
        "len(y_pred1)"
      ],
      "execution_count": null,
      "outputs": [
        {
          "data": {
            "text/plain": [
              "1407"
            ]
          },
          "execution_count": 80,
          "metadata": {},
          "output_type": "execute_result"
        }
      ]
    },
    {
      "cell_type": "code",
      "metadata": {
        "id": "2PUbqsWpAttt"
      },
      "source": [
        "y_pred_final = y_pred1.copy()\n",
        "for i in range(len(y_pred1)):\n",
        "    n_ones = y_pred1[i] + y_pred2[i] + y_pred3[i]\n",
        "    if n_ones>1:\n",
        "        y_pred_final[i] = 1\n",
        "    else:\n",
        "        y_pred_final[i] = 0"
      ],
      "execution_count": null,
      "outputs": []
    },
    {
      "cell_type": "code",
      "metadata": {
        "id": "Phx7qDrBAttt",
        "outputId": "e916d686-a466-4670-9e90-d832c55a1670"
      },
      "source": [
        "cl_rep = classification_report(y_test, y_pred_final)\n",
        "print(cl_rep)"
      ],
      "execution_count": null,
      "outputs": [
        {
          "name": "stdout",
          "output_type": "stream",
          "text": [
            "              precision    recall  f1-score   support\n",
            "\n",
            "           0       0.88      0.69      0.77      1033\n",
            "           1       0.46      0.75      0.57       374\n",
            "\n",
            "    accuracy                           0.70      1407\n",
            "   macro avg       0.67      0.72      0.67      1407\n",
            "weighted avg       0.77      0.70      0.72      1407\n",
            "\n"
          ]
        }
      ]
    },
    {
      "cell_type": "markdown",
      "metadata": {
        "id": "Qn1_ASRSAttt"
      },
      "source": [
        "f1-score for minority class 1 improved to 0.62 from 0.57. The score for majority class 0 is suffering and reduced to 0.80 from 0.85 but at least there is some balance in terms of prediction accuracy across two classes"
      ]
    }
  ]
}